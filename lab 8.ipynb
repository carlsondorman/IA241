{
 "cells": [
  {
   "cell_type": "markdown",
   "metadata": {},
   "source": [
    "# Q1"
   ]
  },
  {
   "cell_type": "markdown",
   "metadata": {},
   "source": [
    "## job 1\n",
    "Rr. Resource analyst\n",
    "\n",
    "CIA\n",
    "\n",
    "[link](https://www.indeed.com/viewjob?jk=a506dbc3c59b49fe&tk=1d6gomou92482000&from=serp&vjs=3&advn=3763140750965033&adid=151657259&sjdu=-q0o7WOAJNct_mz1WRHx6ghivoEvSq3DOkXYBTyF1L2zKTxPh25P7FwPheUXFSkaQBUlHbLQK3UjxVt5oCiLLATrzDCv_dCSdyaobRSRRAm4iPjKnpugfV4VF_1iYX2q)"
   ]
  },
  {
   "cell_type": "markdown",
   "metadata": {},
   "source": [
    "## job 2\n",
    "Rr. Financial and cost analyst\n",
    "\n",
    "Booz Allen Hamilton\n",
    "\n",
    "[link](https://www.indeed.com/viewjob?jk=ff35482427538e0c&tk=1d6gom26h2481005&from=serp&vjs=3)"
   ]
  },
  {
   "cell_type": "code",
   "execution_count": 2,
   "metadata": {},
   "outputs": [],
   "source": [
    "import xlwt        \n",
    "from collections import Counter        \n",
    "from nltk.corpus import stopwords\n",
    "stop = set(stopwords.words('english'))\n",
    "  \n",
    "book = xlwt.Workbook() # create a new excel file\n",
    "sheet_test = book.add_sheet('word_count') # add a new sheet\n",
    "i = 0\n",
    "sheet_test.write(i,0,'word') # write the header of the first column\n",
    "sheet_test.write(i,1,'count') # write the header of the second column\n",
    "sheet_test.write(i,2,'ratio') # write the header of the third column\n",
    "    \n",
    "with open('Cia.txt','r',encoding='utf-8', errors = 'ignore') as text_word: # define the location of your txt file\n",
    "     \n",
    "    # convert all the word into lower cases\n",
    "    # filter out stop words\n",
    "    word_list = [i for i in text_word.read().lower().split() if i not in stop]\n",
    "    word_total = word_list.__len__()\n",
    "     \n",
    "    count_result =  Counter(word_list)\n",
    "    for result in count_result.most_common(10):\n",
    "        i = i+1 \n",
    "        sheet_test.write(i,0,result[0])\n",
    "        sheet_test.write(i,1,result[1])\n",
    "        sheet_test.write(i,2,(result[1]/word_total))\n",
    "    \n",
    "book.save('Cia.xls')# define the location of your excel file"
   ]
  },
  {
   "cell_type": "code",
   "execution_count": 3,
   "metadata": {},
   "outputs": [],
   "source": [
    "import xlwt        \n",
    "from collections import Counter        \n",
    "from nltk.corpus import stopwords\n",
    "stop = set(stopwords.words('english'))\n",
    "  \n",
    "book = xlwt.Workbook() # create a new excel file\n",
    "sheet_test = book.add_sheet('word_count') # add a new sheet\n",
    "i = 0\n",
    "sheet_test.write(i,0,'word') # write the header of the first column\n",
    "sheet_test.write(i,1,'count') # write the header of the second column\n",
    "sheet_test.write(i,2,'ratio') # write the header of the third column\n",
    "    \n",
    "with open('Booz Allen.txt','r',encoding='utf-8', errors = 'ignore') as text_word: # define the location of your txt file\n",
    "     \n",
    "    # convert all the word into lower cases\n",
    "    # filter out stop words\n",
    "    word_list = [i for i in text_word.read().lower().split() if i not in stop]\n",
    "    word_total = word_list.__len__()\n",
    "     \n",
    "    count_result =  Counter(word_list)\n",
    "    for result in count_result.most_common(10):\n",
    "        i = i+1 \n",
    "        sheet_test.write(i,0,result[0])\n",
    "        sheet_test.write(i,1,result[1])\n",
    "        sheet_test.write(i,2,(result[1]/word_total))\n",
    "    \n",
    "book.save('Booz_Allen.xls')# define the location of your excel file"
   ]
  },
  {
   "cell_type": "markdown",
   "metadata": {},
   "source": [
    "<img src=\"Cia_wordcloud.png\">"
   ]
  },
  {
   "cell_type": "markdown",
   "metadata": {},
   "source": [
    "<img src=\"Booz_Allen_wordcloud.png\">"
   ]
  },
  {
   "cell_type": "markdown",
   "metadata": {},
   "source": [
    "# Step 3"
   ]
  },
  {
   "cell_type": "code",
   "execution_count": 8,
   "metadata": {},
   "outputs": [
    {
     "name": "stdout",
     "output_type": "stream",
     "text": [
      "2\n",
      "{'$96,970', 'its', 'acumen', 'one', 'best', 'thinking,', 'polygraph', 'adjust', 'drugs', 'detail', 'suitable', 'lifestyle.', '3.0', 'psychological', 'processing.', '(CFO)', 'Minimum', 'forge', 'eligible).', 'makers', 'tradecraft,', 'requests,', 'exceptions', 'issues', \"Agency's\", 'often', 'year-round', 'your', 'organizational', 'closely', 'specialized', 'fields', 'Analysts', 'decision', 'they', 'writing', 'introduced', 'See', \"CIA's\", 'White', 'In', 'last', 'leads', 'serve', 'generally', 'develop,', 'considered', 'embedded', 'All', 'locations', 'managers,', 'is', \"isn't\", 'officer', 'leveraging', 'Functions', 'issue', 'employee,', 'components,', 'So', 'stakeholders', 'value,', 'just', 'build', 'thinking', 'offers', 'least', 'employment,', 'carefully', 'at', 'Information', 'Strong', 'Comfortable', 'Mathematics', 'internal', \"it's\", 'require', 'provides', 'ago', 'budget', \"We're\", 'impact,', 'tee', 'dynamic', 'new', 'Economics', 'both', 'studies:', 'officers', 'Enterprise', 'Community', 'within', 'intended', 'here', 'applicants', 'made', 'GPA', 'explain', 'accountability', 'Intelligence', 'prior', 'Financial', 'medical', 'resource', 'partnerships', 'developed', 'requires', 'months', 'methodologies', 'help', 'Officer', 'happen.', 'enterprise.', 'apply', 'world-altering', 'expertise', 'relocation', 'collaborative', 'well-rounded', 'develop', 'extenuating', 'exam', '12', 'these', 'interview', 'presentation', 'CIA', 'leverage', 'interpersonal', 'business', 'Policy', 'background', 'addition', 'have', 'across', 'career', 'short', 'strategic', 'component', 'any', \"Bachelor's\", 'key', 'oversight', 'formulate', 'months.', 'mission', 'inclusively', 'underpinning', 'Life', 'out-year', 'intelligence', 'Excellent', '-', 'DC', 'assignments', 'Congress.', 'strong', 'Therefore,', 'required', 'integrating', 'end-to-end', '4-point', 'execution.', 'ensure', 'trusted', 'budgets', 'US', 'evaluated', 'initiative', 'understanding', 'but', 'opportunities', 'starting', 'up', 'Finance', '$65,505', 'The', 'governance', 'expenditure', 'Chief', 'skills', 'professional.', 'Washington,', 'preferred,', 'customers,', 'analytic', 'citizens', 'Headquarters', 'area.', 'used', 'Community,', 'not', 'also', 'making', 'identify', 'spending,', 'advisors', 'Resource', 'program', 'variety', 'worldwide.', 'mindset', 'Public', 'comprehensive', 'must', 'To', 'Systems', 'circumstances', 'oversee', 'effort', 'strategically', 'strategic,', 'during', 'Successively', 'Management', 'notice', 'profession,', 'acclimate', 'illegal', 'Office', 'forefront', '(dual-national', 'related', 'efficiencies', 'benefits', 'students', 'objectives.', 'major', 'critical', 'inform', 'Functions,', 'mission.', 'independently', 'teams', 'more', 'job,', 'Analyst', 'assess', 'you', 'drug', 'leaders', 'Attention', 'training', 'A', 'better', 'package,', 'impact.', 'successfully', 'evaluate', 'events', 'non-technical', 'following', 'through', 'Marketing', 'complete:', 'justify', 'career.', 'prioritize', 'year', 'CFO', 'Agency', 'exciting', 'environment.', 'citizenship', 'operate', 'Administration', 'As', 'assigned', 'formulation', 'priorities,', 'analyst', 'planning.', 'action:', 'thorough', 'management', 'Or,', 'CIA,', 'decisions,', 'plan,', 'tactical', 'Business', 'impacts', 'scale', 'accomplish', 'responsible', 'experts,', 'time', 'analysts', 'convey', 'expects', 'Together', 'positions', 'metro', '/', 'only', 'House,', 'managers'}\n",
      "{'Basic', 'concepts.', 'Gather,', 'empowers', 'financial', 'future', 'policies', 'acquisition', 'Allen', 'capital', 'research', 'characteristicto', 'what', 'work.', 'Learn', 'Microsoft', 'investment', 'interpret,', 'matter', 'problems', 'Booz', 'requirements', 'problem', 'recommendations', 'activities,', 'concepts', 'readily', 'requirements,', 'situations', 'BA', 'skills,', 'religion,', 'follow', 'Analyze,', 'detailed', '1,839', 'scope,', 'impact', 'present', 'fearlessly', 'depreciations,', 'Additional', 'information.', 'change', 'veteran', 'Receive', 'analyzing', 'can', 'need', 'other', 'Role:', 'Clearance:', 'reviews', 'Were', 'Excel', 'obtain', 'Applicants', 'studies', 'eligibility', 'sex,', 'origin,', 'EOE', 'plans,', 'access', 'are', 'status,', 'all', 'national', 'Read', 'relationships', 'economic', 'an', 'internally.', 'limited', 'summarize', 'procedures', 'stable', 'determine', 'subject', 'including', 'race,', 'obtained.', 'estimating', 'standard', 'performance.', 'rates', 'protected', 'governmental', 'cost', 'prepare,', 'orientation,', 'opportunities,', 'peopleno', 'color,', 'Experience', 'resolving', 'answers', 'people', 'meet', 'Build', 'Apply', 'classified', 'clearance', 'return,', 'company', 'projects', 'Knowledge', 'routing', 'identity,', 'Possession', 'data', 'instructions', 'Perform', 'disability,', 'Key', 'trended', 'requirements.', 'here.', 'from', 'interpreting', 'issues,', 'gender', 'control.', 'saying', 'sexual', 'about', 'performance,', 'forecasts.', 'solving', 'selected', 'excellent', 'Hamilton', 'BS'}\n"
     ]
    },
    {
     "name": "stderr",
     "output_type": "stream",
     "text": [
      "C:\\ProgramData\\Anaconda3\\lib\\site-packages\\fuzzywuzzy\\fuzz.py:11: UserWarning: Using slow pure-python SequenceMatcher. Install python-Levenshtein to remove this warning\n",
      "  warnings.warn('Using slow pure-python SequenceMatcher. Install python-Levenshtein to remove this warning')\n"
     ]
    }
   ],
   "source": [
    "from fuzzywuzzy import fuzz\n",
    "with open('Cia.txt','r',encoding='utf-8', errors = 'ignore') as Job1:\n",
    "    with open('Booz Allen.txt','r',encoding='utf-8', errors = 'ignore') as Job2:\n",
    "            Job1_str =Job1.read()\n",
    "            Job2_str =Job2.read()\n",
    "            print(fuzz.token_sort_ratio(Job1_str,Job2_str))\n",
    "            \n",
    "            Job1_set = set(Job1_str.split())\n",
    "            Job2_set = set(Job2_str.split())\n",
    "            \n",
    "            print(Job1_set.difference(Job2_set))\n",
    "            print(Job2_set.difference(Job1_set))"
   ]
  },
  {
   "cell_type": "code",
   "execution_count": null,
   "metadata": {},
   "outputs": [],
   "source": []
  }
 ],
 "metadata": {
  "kernelspec": {
   "display_name": "Python 3",
   "language": "python",
   "name": "python3"
  },
  "language_info": {
   "codemirror_mode": {
    "name": "ipython",
    "version": 3
   },
   "file_extension": ".py",
   "mimetype": "text/x-python",
   "name": "python",
   "nbconvert_exporter": "python",
   "pygments_lexer": "ipython3",
   "version": "3.6.5"
  }
 },
 "nbformat": 4,
 "nbformat_minor": 2
}
