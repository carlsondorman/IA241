{
 "cells": [
  {
   "cell_type": "markdown",
   "metadata": {},
   "source": [
    "# Q1"
   ]
  },
  {
   "cell_type": "code",
   "execution_count": 1,
   "metadata": {},
   "outputs": [],
   "source": [
    "from urllib import request\n",
    "import json\n",
    "from pprint import pprint"
   ]
  },
  {
   "cell_type": "code",
   "execution_count": 2,
   "metadata": {},
   "outputs": [],
   "source": [
    "census_api_key = '54d47f0a6d4a13edccfc82e1e50164d068a05b3f'"
   ]
  },
  {
   "cell_type": "code",
   "execution_count": 5,
   "metadata": {},
   "outputs": [],
   "source": [
    "url_str = 'https://api.census.gov/data/2017/acs/acs5?get=B01001_001E,NAME&for=county:*&in=state:51&key='+census_api_key # create the url of your census data"
   ]
  },
  {
   "cell_type": "code",
   "execution_count": 6,
   "metadata": {},
   "outputs": [
    {
     "name": "stdout",
     "output_type": "stream",
     "text": [
      "https://api.census.gov/data/2017/acs/acs5?get=B01001_001E,NAME&for=county:*&in=state:51&key=54d47f0a6d4a13edccfc82e1e50164d068a05b3f\n"
     ]
    }
   ],
   "source": [
    "print(url_str)"
   ]
  },
  {
   "cell_type": "code",
   "execution_count": 7,
   "metadata": {},
   "outputs": [],
   "source": [
    "response = request.urlopen(url_str) # read the response into computer\n",
    "\n",
    "html_str = response.read().decode(\"utf-8\") # convert the response into string"
   ]
  },
  {
   "cell_type": "code",
   "execution_count": 8,
   "metadata": {
    "scrolled": true
   },
   "outputs": [
    {
     "name": "stdout",
     "output_type": "stream",
     "text": [
      "[[\"B01001_001E\",\"NAME\",\"state\",\"county\"],\n",
      "[\"7022\",\"Charles City County, Virginia\",\"51\",\"036\"],\n",
      "[\"49795\",\"Culpeper County, Virginia\",\"51\",\"047\"],\n",
      "[\"28033\",\"Dinwiddie County, Virginia\",\"51\",\"053\"],\n",
      "[\"19213\",\"Greene County, Virginia\",\"51\",\"079\"],\n",
      "[\"103218\",\"Hanover County, Virginia\",\"51\",\"085\"],\n",
      "[\"12369\",\"Lunenburg County, Virginia\",\"51\",\"111\"],\n",
      "[\"35265\",\"Orange County, Virginia\",\"51\",\"137\"],\n",
      "[\"5495\",\"Emporia city, Virginia\",\"51\",\"595\"],\n",
      "[\"29048\",\"Wythe County, Virginia\",\"51\",\"197\"],\n",
      "[\"235410\",\"Chesapeake city, Virginia\",\"51\",\"550\"],\n",
      "[\"17582\",\"Colonial Heights city, Virginia\",\"51\",\"570\"],\n",
      "[\"53064\",\"Harrisonburg city, Virginia\",\"51\",\"660\"],\n",
      "[\"105105\",\"Albemarle County, Virginia\",\"51\",\"003\"],\n",
      "[\"6524\",\"Bland County, Virginia\",\"51\",\"021\"],\n",
      "[\"77319\",\"Bedford County, Virginia\",\"51\",\"019\"],\n",
      "[\"33149\",\"Botetourt County, Virginia\",\"51\",\"023\"],\n",
      "[\"17048\",\"Buckingham County, Virginia\",\"51\",\"029\"],\n",
      "[\"39539\",\"Wise County, Virginia\",\"51\",\"195\"],\n",
      "[\"17077\",\"Bristol city, Virginia\",\"51\",\"520\"],\n",
      "[\"5675\",\"Covington city, Virginia\",\"51\",\"580\"],\n",
      "[\"95536\",\"Portsmouth city, Virginia\",\"51\",\"740\"],\n",
      "[\"14817\",\"Williamsburg city, Virginia\",\"51\",\"830\"],\n",
      "[\"450057\",\"Virginia Beach city, Virginia\",\"51\",\"810\"],\n",
      "[\"15489\",\"Alleghany County, Virginia\",\"51\",\"005\"],\n",
      "[\"29767\",\"Carroll County, Virginia\",\"51\",\"035\"],\n",
      "[\"6788\",\"Galax city, Virginia\",\"51\",\"640\"],\n",
      "[\"54457\",\"Washington County, Virginia\",\"51\",\"191\"],\n",
      "[\"17596\",\"Westmoreland County, Virginia\",\"51\",\"193\"],\n",
      "[\"12254\",\"Northumberland County, Virginia\",\"51\",\"133\"],\n",
      "[\"23694\",\"Page County, Virginia\",\"51\",\"139\"],\n",
      "[\"34330\",\"Pulaski County, Virginia\",\"51\",\"155\"],\n",
      "[\"38991\",\"Warren County, Virginia\",\"51\",\"187\"],\n",
      "[\"154710\",\"Alexandria city, Virginia\",\"51\",\"510\"],\n",
      "[\"41911\",\"Danville city, Virginia\",\"51\",\"590\"],\n",
      "[\"28135\",\"Fredericksburg city, Virginia\",\"51\",\"630\"],\n",
      "[\"136255\",\"Hampton city, Virginia\",\"51\",\"650\"],\n",
      "[\"31819\",\"Amherst County, Virginia\",\"51\",\"009\"],\n",
      "[\"229534\",\"Arlington County, Virginia\",\"51\",\"013\"],\n",
      "[\"4458\",\"Bath County, Virginia\",\"51\",\"017\"],\n",
      "[\"22353\",\"Hopewell city, Virginia\",\"51\",\"670\"],\n",
      "[\"22611\",\"Buchanan County, Virginia\",\"51\",\"027\"],\n",
      "[\"180775\",\"Newport News city, Virginia\",\"51\",\"700\"],\n",
      "[\"83784\",\"Frederick County, Virginia\",\"51\",\"069\"],\n",
      "[\"141159\",\"Stafford County, Virginia\",\"51\",\"179\"],\n",
      "[\"79237\",\"Lynchburg city, Virginia\",\"51\",\"680\"],\n",
      "[\"67196\",\"York County, Virginia\",\"51\",\"199\"],\n",
      "[\"220892\",\"Richmond city, Virginia\",\"51\",\"760\"],\n",
      "[\"13256\",\"Martinsville city, Virginia\",\"51\",\"690\"],\n",
      "[\"14863\",\"Nelson County, Virginia\",\"51\",\"125\"],\n",
      "[\"11083\",\"Essex County, Virginia\",\"51\",\"057\"],\n",
      "[\"61970\",\"Pittsylvania County, Virginia\",\"51\",\"143\"],\n",
      "[\"4043\",\"Norton city, Virginia\",\"51\",\"720\"],\n",
      "[\"24273\",\"Staunton city, Virginia\",\"51\",\"790\"],\n",
      "[\"26109\",\"Fluvanna County, Virginia\",\"51\",\"065\"],\n",
      "[\"12802\",\"Amelia County, Virginia\",\"51\",\"007\"],\n",
      "[\"17380\",\"Radford city, Virginia\",\"51\",\"750\"],\n",
      "[\"27516\",\"Winchester city, Virginia\",\"51\",\"840\"],\n",
      "[\"32840\",\"Accomack County, Virginia\",\"51\",\"001\"],\n",
      "[\"5131\",\"Craig County, Virginia\",\"51\",\"045\"],\n",
      "[\"15594\",\"Floyd County, Virginia\",\"51\",\"063\"],\n",
      "[\"16867\",\"Giles County, Virginia\",\"51\",\"071\"],\n",
      "[\"15708\",\"Grayson County, Virginia\",\"51\",\"077\"],\n",
      "[\"15537\",\"Nottoway County, Virginia\",\"51\",\"135\"],\n",
      "[\"7359\",\"Rappahannock County, Virginia\",\"51\",\"157\"],\n",
      "[\"42689\",\"Tazewell County, Virginia\",\"51\",\"185\"],\n",
      "[\"6495\",\"Buena Vista city, Virginia\",\"51\",\"530\"],\n",
      "[\"13843\",\"Falls Church city, Virginia\",\"51\",\"610\"],\n",
      "[\"16117\",\"Manassas Park city, Virginia\",\"51\",\"685\"],\n",
      "[\"32037\",\"Petersburg city, Virginia\",\"51\",\"730\"],\n",
      "[\"12022\",\"Poquoson city, Virginia\",\"51\",\"735\"],\n",
      "[\"11595\",\"Sussex County, Virginia\",\"51\",\"183\"],\n",
      "[\"23580\",\"Fairfax city, Virginia\",\"51\",\"600\"],\n",
      "[\"21620\",\"Waynesboro city, Virginia\",\"51\",\"820\"],\n",
      "[\"41379\",\"Manassas city, Virginia\",\"51\",\"683\"],\n",
      "[\"99572\",\"Roanoke city, Virginia\",\"51\",\"770\"],\n",
      "[\"25521\",\"Salem city, Virginia\",\"51\",\"775\"],\n",
      "[\"88057\",\"Suffolk city, Virginia\",\"51\",\"800\"],\n",
      "[\"245752\",\"Norfolk city, Virginia\",\"51\",\"710\"],\n",
      "[\"12176\",\"Charlotte County, Virginia\",\"51\",\"037\"],\n",
      "[\"335594\",\"Chesterfield County, Virginia\",\"51\",\"041\"],\n",
      "[\"1142004\",\"Fairfax County, Virginia\",\"51\",\"059\"],\n",
      "[\"11606\",\"Greensville County, Virginia\",\"51\",\"081\"],\n",
      "[\"36090\",\"Isle of Wight County, Virginia\",\"51\",\"093\"],\n",
      "[\"73028\",\"James City County, Virginia\",\"51\",\"095\"],\n",
      "[\"27725\",\"Russell County, Virginia\",\"51\",\"167\"],\n",
      "[\"8334\",\"Franklin city, Virginia\",\"51\",\"620\"],\n",
      "[\"31298\",\"Smyth County, Virginia\",\"51\",\"173\"],\n",
      "[\"46487\",\"Charlottesville city, Virginia\",\"51\",\"540\"],\n",
      "[\"7113\",\"Lexington city, Virginia\",\"51\",\"678\"],\n",
      "[\"55158\",\"Campbell County, Virginia\",\"51\",\"031\"],\n",
      "[\"324073\",\"Henrico County, Virginia\",\"51\",\"087\"],\n",
      "[\"51956\",\"Henry County, Virginia\",\"51\",\"089\"],\n",
      "[\"25564\",\"King George County, Virginia\",\"51\",\"099\"],\n",
      "[\"34813\",\"Louisa County, Virginia\",\"51\",\"109\"],\n",
      "[\"16329\",\"King William County, Virginia\",\"51\",\"101\"],\n",
      "[\"10848\",\"Lancaster County, Virginia\",\"51\",\"103\"],\n",
      "[\"24428\",\"Lee County, Virginia\",\"51\",\"105\"],\n",
      "[\"8830\",\"Mathews County, Virginia\",\"51\",\"115\"],\n",
      "[\"10710\",\"Middlesex County, Virginia\",\"51\",\"119\"],\n",
      "[\"22903\",\"Prince Edward County, Virginia\",\"51\",\"147\"],\n",
      "[\"37704\",\"Prince George County, Virginia\",\"51\",\"149\"],\n",
      "[\"8873\",\"Richmond County, Virginia\",\"51\",\"159\"],\n",
      "[\"78653\",\"Rockingham County, Virginia\",\"51\",\"165\"],\n",
      "[\"22290\",\"Scott County, Virginia\",\"51\",\"169\"],\n",
      "[\"130159\",\"Spotsylvania County, Virginia\",\"51\",\"177\"],\n",
      "[\"6670\",\"Surry County, Virginia\",\"51\",\"181\"],\n",
      "[\"15462\",\"Appomattox County, Virginia\",\"51\",\"011\"],\n",
      "[\"14331\",\"Clarke County, Virginia\",\"51\",\"043\"],\n",
      "[\"56277\",\"Franklin County, Virginia\",\"51\",\"067\"],\n",
      "[\"7052\",\"King and Queen County, Virginia\",\"51\",\"097\"],\n",
      "[\"30959\",\"Mecklenburg County, Virginia\",\"51\",\"117\"],\n",
      "[\"97692\",\"Montgomery County, Virginia\",\"51\",\"121\"],\n",
      "[\"20523\",\"New Kent County, Virginia\",\"51\",\"127\"],\n",
      "[\"74390\",\"Augusta County, Virginia\",\"51\",\"015\"],\n",
      "[\"9797\",\"Cumberland County, Virginia\",\"51\",\"049\"],\n",
      "[\"15181\",\"Dickenson County, Virginia\",\"51\",\"051\"],\n",
      "[\"22148\",\"Goochland County, Virginia\",\"51\",\"075\"],\n",
      "[\"35030\",\"Halifax County, Virginia\",\"51\",\"083\"],\n",
      "[\"374558\",\"Loudoun County, Virginia\",\"51\",\"107\"],\n",
      "[\"13108\",\"Madison County, Virginia\",\"51\",\"113\"],\n",
      "[\"450763\",\"Prince William County, Virginia\",\"51\",\"153\"],\n",
      "[\"93419\",\"Roanoke County, Virginia\",\"51\",\"161\"],\n",
      "[\"18089\",\"Southampton County, Virginia\",\"51\",\"175\"],\n",
      "[\"2213\",\"Highland County, Virginia\",\"51\",\"091\"],\n",
      "[\"16435\",\"Brunswick County, Virginia\",\"51\",\"025\"],\n",
      "[\"29889\",\"Caroline County, Virginia\",\"51\",\"033\"],\n",
      "[\"37035\",\"Gloucester County, Virginia\",\"51\",\"073\"],\n",
      "[\"11998\",\"Northampton County, Virginia\",\"51\",\"131\"],\n",
      "[\"17958\",\"Patrick County, Virginia\",\"51\",\"141\"],\n",
      "[\"28364\",\"Powhatan County, Virginia\",\"51\",\"145\"],\n",
      "[\"22440\",\"Rockbridge County, Virginia\",\"51\",\"163\"],\n",
      "[\"42854\",\"Shenandoah County, Virginia\",\"51\",\"171\"],\n",
      "[\"68406\",\"Fauquier County, Virginia\",\"51\",\"061\"]]\n"
     ]
    }
   ],
   "source": [
    "print(html_str)"
   ]
  },
  {
   "cell_type": "code",
   "execution_count": 9,
   "metadata": {
    "scrolled": true
   },
   "outputs": [
    {
     "name": "stdout",
     "output_type": "stream",
     "text": [
      "[['B01001_001E', 'NAME', 'state', 'county'], ['7022', 'Charles City County, Virginia', '51', '036'], ['49795', 'Culpeper County, Virginia', '51', '047'], ['28033', 'Dinwiddie County, Virginia', '51', '053'], ['19213', 'Greene County, Virginia', '51', '079'], ['103218', 'Hanover County, Virginia', '51', '085'], ['12369', 'Lunenburg County, Virginia', '51', '111'], ['35265', 'Orange County, Virginia', '51', '137'], ['5495', 'Emporia city, Virginia', '51', '595'], ['29048', 'Wythe County, Virginia', '51', '197'], ['235410', 'Chesapeake city, Virginia', '51', '550'], ['17582', 'Colonial Heights city, Virginia', '51', '570'], ['53064', 'Harrisonburg city, Virginia', '51', '660'], ['105105', 'Albemarle County, Virginia', '51', '003'], ['6524', 'Bland County, Virginia', '51', '021'], ['77319', 'Bedford County, Virginia', '51', '019'], ['33149', 'Botetourt County, Virginia', '51', '023'], ['17048', 'Buckingham County, Virginia', '51', '029'], ['39539', 'Wise County, Virginia', '51', '195'], ['17077', 'Bristol city, Virginia', '51', '520'], ['5675', 'Covington city, Virginia', '51', '580'], ['95536', 'Portsmouth city, Virginia', '51', '740'], ['14817', 'Williamsburg city, Virginia', '51', '830'], ['450057', 'Virginia Beach city, Virginia', '51', '810'], ['15489', 'Alleghany County, Virginia', '51', '005'], ['29767', 'Carroll County, Virginia', '51', '035'], ['6788', 'Galax city, Virginia', '51', '640'], ['54457', 'Washington County, Virginia', '51', '191'], ['17596', 'Westmoreland County, Virginia', '51', '193'], ['12254', 'Northumberland County, Virginia', '51', '133'], ['23694', 'Page County, Virginia', '51', '139'], ['34330', 'Pulaski County, Virginia', '51', '155'], ['38991', 'Warren County, Virginia', '51', '187'], ['154710', 'Alexandria city, Virginia', '51', '510'], ['41911', 'Danville city, Virginia', '51', '590'], ['28135', 'Fredericksburg city, Virginia', '51', '630'], ['136255', 'Hampton city, Virginia', '51', '650'], ['31819', 'Amherst County, Virginia', '51', '009'], ['229534', 'Arlington County, Virginia', '51', '013'], ['4458', 'Bath County, Virginia', '51', '017'], ['22353', 'Hopewell city, Virginia', '51', '670'], ['22611', 'Buchanan County, Virginia', '51', '027'], ['180775', 'Newport News city, Virginia', '51', '700'], ['83784', 'Frederick County, Virginia', '51', '069'], ['141159', 'Stafford County, Virginia', '51', '179'], ['79237', 'Lynchburg city, Virginia', '51', '680'], ['67196', 'York County, Virginia', '51', '199'], ['220892', 'Richmond city, Virginia', '51', '760'], ['13256', 'Martinsville city, Virginia', '51', '690'], ['14863', 'Nelson County, Virginia', '51', '125'], ['11083', 'Essex County, Virginia', '51', '057'], ['61970', 'Pittsylvania County, Virginia', '51', '143'], ['4043', 'Norton city, Virginia', '51', '720'], ['24273', 'Staunton city, Virginia', '51', '790'], ['26109', 'Fluvanna County, Virginia', '51', '065'], ['12802', 'Amelia County, Virginia', '51', '007'], ['17380', 'Radford city, Virginia', '51', '750'], ['27516', 'Winchester city, Virginia', '51', '840'], ['32840', 'Accomack County, Virginia', '51', '001'], ['5131', 'Craig County, Virginia', '51', '045'], ['15594', 'Floyd County, Virginia', '51', '063'], ['16867', 'Giles County, Virginia', '51', '071'], ['15708', 'Grayson County, Virginia', '51', '077'], ['15537', 'Nottoway County, Virginia', '51', '135'], ['7359', 'Rappahannock County, Virginia', '51', '157'], ['42689', 'Tazewell County, Virginia', '51', '185'], ['6495', 'Buena Vista city, Virginia', '51', '530'], ['13843', 'Falls Church city, Virginia', '51', '610'], ['16117', 'Manassas Park city, Virginia', '51', '685'], ['32037', 'Petersburg city, Virginia', '51', '730'], ['12022', 'Poquoson city, Virginia', '51', '735'], ['11595', 'Sussex County, Virginia', '51', '183'], ['23580', 'Fairfax city, Virginia', '51', '600'], ['21620', 'Waynesboro city, Virginia', '51', '820'], ['41379', 'Manassas city, Virginia', '51', '683'], ['99572', 'Roanoke city, Virginia', '51', '770'], ['25521', 'Salem city, Virginia', '51', '775'], ['88057', 'Suffolk city, Virginia', '51', '800'], ['245752', 'Norfolk city, Virginia', '51', '710'], ['12176', 'Charlotte County, Virginia', '51', '037'], ['335594', 'Chesterfield County, Virginia', '51', '041'], ['1142004', 'Fairfax County, Virginia', '51', '059'], ['11606', 'Greensville County, Virginia', '51', '081'], ['36090', 'Isle of Wight County, Virginia', '51', '093'], ['73028', 'James City County, Virginia', '51', '095'], ['27725', 'Russell County, Virginia', '51', '167'], ['8334', 'Franklin city, Virginia', '51', '620'], ['31298', 'Smyth County, Virginia', '51', '173'], ['46487', 'Charlottesville city, Virginia', '51', '540'], ['7113', 'Lexington city, Virginia', '51', '678'], ['55158', 'Campbell County, Virginia', '51', '031'], ['324073', 'Henrico County, Virginia', '51', '087'], ['51956', 'Henry County, Virginia', '51', '089'], ['25564', 'King George County, Virginia', '51', '099'], ['34813', 'Louisa County, Virginia', '51', '109'], ['16329', 'King William County, Virginia', '51', '101'], ['10848', 'Lancaster County, Virginia', '51', '103'], ['24428', 'Lee County, Virginia', '51', '105'], ['8830', 'Mathews County, Virginia', '51', '115'], ['10710', 'Middlesex County, Virginia', '51', '119'], ['22903', 'Prince Edward County, Virginia', '51', '147'], ['37704', 'Prince George County, Virginia', '51', '149'], ['8873', 'Richmond County, Virginia', '51', '159'], ['78653', 'Rockingham County, Virginia', '51', '165'], ['22290', 'Scott County, Virginia', '51', '169'], ['130159', 'Spotsylvania County, Virginia', '51', '177'], ['6670', 'Surry County, Virginia', '51', '181'], ['15462', 'Appomattox County, Virginia', '51', '011'], ['14331', 'Clarke County, Virginia', '51', '043'], ['56277', 'Franklin County, Virginia', '51', '067'], ['7052', 'King and Queen County, Virginia', '51', '097'], ['30959', 'Mecklenburg County, Virginia', '51', '117'], ['97692', 'Montgomery County, Virginia', '51', '121'], ['20523', 'New Kent County, Virginia', '51', '127'], ['74390', 'Augusta County, Virginia', '51', '015'], ['9797', 'Cumberland County, Virginia', '51', '049'], ['15181', 'Dickenson County, Virginia', '51', '051'], ['22148', 'Goochland County, Virginia', '51', '075'], ['35030', 'Halifax County, Virginia', '51', '083'], ['374558', 'Loudoun County, Virginia', '51', '107'], ['13108', 'Madison County, Virginia', '51', '113'], ['450763', 'Prince William County, Virginia', '51', '153'], ['93419', 'Roanoke County, Virginia', '51', '161'], ['18089', 'Southampton County, Virginia', '51', '175'], ['2213', 'Highland County, Virginia', '51', '091'], ['16435', 'Brunswick County, Virginia', '51', '025'], ['29889', 'Caroline County, Virginia', '51', '033'], ['37035', 'Gloucester County, Virginia', '51', '073'], ['11998', 'Northampton County, Virginia', '51', '131'], ['17958', 'Patrick County, Virginia', '51', '141'], ['28364', 'Powhatan County, Virginia', '51', '145'], ['22440', 'Rockbridge County, Virginia', '51', '163'], ['42854', 'Shenandoah County, Virginia', '51', '171'], ['68406', 'Fauquier County, Virginia', '51', '061']]\n"
     ]
    }
   ],
   "source": [
    "if html_str:\n",
    "    json_data = json.loads(html_str)\n",
    "    print(json_data)"
   ]
  },
  {
   "cell_type": "code",
   "execution_count": 11,
   "metadata": {},
   "outputs": [
    {
     "name": "stdout",
     "output_type": "stream",
     "text": [
      "['B01001_001E', 'NAME', 'state', 'county']\n",
      "7022 Charles City County, Virginia 51 036\n",
      "49795 Culpeper County, Virginia 51 047\n",
      "28033 Dinwiddie County, Virginia 51 053\n",
      "19213 Greene County, Virginia 51 079\n",
      "103218 Hanover County, Virginia 51 085\n",
      "12369 Lunenburg County, Virginia 51 111\n",
      "35265 Orange County, Virginia 51 137\n",
      "5495 Emporia city, Virginia 51 595\n",
      "29048 Wythe County, Virginia 51 197\n",
      "235410 Chesapeake city, Virginia 51 550\n",
      "17582 Colonial Heights city, Virginia 51 570\n",
      "53064 Harrisonburg city, Virginia 51 660\n",
      "105105 Albemarle County, Virginia 51 003\n",
      "6524 Bland County, Virginia 51 021\n",
      "77319 Bedford County, Virginia 51 019\n",
      "33149 Botetourt County, Virginia 51 023\n",
      "17048 Buckingham County, Virginia 51 029\n",
      "39539 Wise County, Virginia 51 195\n",
      "17077 Bristol city, Virginia 51 520\n",
      "5675 Covington city, Virginia 51 580\n",
      "95536 Portsmouth city, Virginia 51 740\n",
      "14817 Williamsburg city, Virginia 51 830\n",
      "450057 Virginia Beach city, Virginia 51 810\n",
      "15489 Alleghany County, Virginia 51 005\n",
      "29767 Carroll County, Virginia 51 035\n",
      "6788 Galax city, Virginia 51 640\n",
      "54457 Washington County, Virginia 51 191\n",
      "17596 Westmoreland County, Virginia 51 193\n",
      "12254 Northumberland County, Virginia 51 133\n",
      "23694 Page County, Virginia 51 139\n",
      "34330 Pulaski County, Virginia 51 155\n",
      "38991 Warren County, Virginia 51 187\n",
      "154710 Alexandria city, Virginia 51 510\n",
      "41911 Danville city, Virginia 51 590\n",
      "28135 Fredericksburg city, Virginia 51 630\n",
      "136255 Hampton city, Virginia 51 650\n",
      "31819 Amherst County, Virginia 51 009\n",
      "229534 Arlington County, Virginia 51 013\n",
      "4458 Bath County, Virginia 51 017\n",
      "22353 Hopewell city, Virginia 51 670\n",
      "22611 Buchanan County, Virginia 51 027\n",
      "180775 Newport News city, Virginia 51 700\n",
      "83784 Frederick County, Virginia 51 069\n",
      "141159 Stafford County, Virginia 51 179\n",
      "79237 Lynchburg city, Virginia 51 680\n",
      "67196 York County, Virginia 51 199\n",
      "220892 Richmond city, Virginia 51 760\n",
      "13256 Martinsville city, Virginia 51 690\n",
      "14863 Nelson County, Virginia 51 125\n",
      "11083 Essex County, Virginia 51 057\n",
      "61970 Pittsylvania County, Virginia 51 143\n",
      "4043 Norton city, Virginia 51 720\n",
      "24273 Staunton city, Virginia 51 790\n",
      "26109 Fluvanna County, Virginia 51 065\n",
      "12802 Amelia County, Virginia 51 007\n",
      "17380 Radford city, Virginia 51 750\n",
      "27516 Winchester city, Virginia 51 840\n",
      "32840 Accomack County, Virginia 51 001\n",
      "5131 Craig County, Virginia 51 045\n",
      "15594 Floyd County, Virginia 51 063\n",
      "16867 Giles County, Virginia 51 071\n",
      "15708 Grayson County, Virginia 51 077\n",
      "15537 Nottoway County, Virginia 51 135\n",
      "7359 Rappahannock County, Virginia 51 157\n",
      "42689 Tazewell County, Virginia 51 185\n",
      "6495 Buena Vista city, Virginia 51 530\n",
      "13843 Falls Church city, Virginia 51 610\n",
      "16117 Manassas Park city, Virginia 51 685\n",
      "32037 Petersburg city, Virginia 51 730\n",
      "12022 Poquoson city, Virginia 51 735\n",
      "11595 Sussex County, Virginia 51 183\n",
      "23580 Fairfax city, Virginia 51 600\n",
      "21620 Waynesboro city, Virginia 51 820\n",
      "41379 Manassas city, Virginia 51 683\n",
      "99572 Roanoke city, Virginia 51 770\n",
      "25521 Salem city, Virginia 51 775\n",
      "88057 Suffolk city, Virginia 51 800\n",
      "245752 Norfolk city, Virginia 51 710\n",
      "12176 Charlotte County, Virginia 51 037\n",
      "335594 Chesterfield County, Virginia 51 041\n",
      "1142004 Fairfax County, Virginia 51 059\n",
      "11606 Greensville County, Virginia 51 081\n",
      "36090 Isle of Wight County, Virginia 51 093\n",
      "73028 James City County, Virginia 51 095\n",
      "27725 Russell County, Virginia 51 167\n",
      "8334 Franklin city, Virginia 51 620\n",
      "31298 Smyth County, Virginia 51 173\n",
      "46487 Charlottesville city, Virginia 51 540\n",
      "7113 Lexington city, Virginia 51 678\n",
      "55158 Campbell County, Virginia 51 031\n",
      "324073 Henrico County, Virginia 51 087\n",
      "51956 Henry County, Virginia 51 089\n",
      "25564 King George County, Virginia 51 099\n",
      "34813 Louisa County, Virginia 51 109\n",
      "16329 King William County, Virginia 51 101\n",
      "10848 Lancaster County, Virginia 51 103\n",
      "24428 Lee County, Virginia 51 105\n",
      "8830 Mathews County, Virginia 51 115\n",
      "10710 Middlesex County, Virginia 51 119\n",
      "22903 Prince Edward County, Virginia 51 147\n",
      "37704 Prince George County, Virginia 51 149\n",
      "8873 Richmond County, Virginia 51 159\n",
      "78653 Rockingham County, Virginia 51 165\n",
      "22290 Scott County, Virginia 51 169\n",
      "130159 Spotsylvania County, Virginia 51 177\n",
      "6670 Surry County, Virginia 51 181\n",
      "15462 Appomattox County, Virginia 51 011\n",
      "14331 Clarke County, Virginia 51 043\n",
      "56277 Franklin County, Virginia 51 067\n",
      "7052 King and Queen County, Virginia 51 097\n",
      "30959 Mecklenburg County, Virginia 51 117\n",
      "97692 Montgomery County, Virginia 51 121\n",
      "20523 New Kent County, Virginia 51 127\n",
      "74390 Augusta County, Virginia 51 015\n",
      "9797 Cumberland County, Virginia 51 049\n",
      "15181 Dickenson County, Virginia 51 051\n",
      "22148 Goochland County, Virginia 51 075\n",
      "35030 Halifax County, Virginia 51 083\n",
      "374558 Loudoun County, Virginia 51 107\n",
      "13108 Madison County, Virginia 51 113\n",
      "450763 Prince William County, Virginia 51 153\n",
      "93419 Roanoke County, Virginia 51 161\n",
      "18089 Southampton County, Virginia 51 175\n",
      "2213 Highland County, Virginia 51 091\n",
      "16435 Brunswick County, Virginia 51 025\n",
      "29889 Caroline County, Virginia 51 033\n",
      "37035 Gloucester County, Virginia 51 073\n",
      "11998 Northampton County, Virginia 51 131\n",
      "17958 Patrick County, Virginia 51 141\n",
      "28364 Powhatan County, Virginia 51 145\n",
      "22440 Rockbridge County, Virginia 51 163\n",
      "42854 Shenandoah County, Virginia 51 171\n",
      "68406 Fauquier County, Virginia 51 061\n"
     ]
    }
   ],
   "source": [
    "if html_str:\n",
    "    json_data = json.loads(html_str)\n",
    "    print(json_data[0])\n",
    "    for v1,name,state,county in json_data[1:]:\n",
    "        print (v1,name,state,county )"
   ]
  },
  {
   "cell_type": "markdown",
   "metadata": {},
   "source": [
    "# Q2"
   ]
  },
  {
   "cell_type": "code",
   "execution_count": 12,
   "metadata": {},
   "outputs": [],
   "source": [
    "from urllib import request\n",
    "import json\n",
    "from pprint import pprint"
   ]
  },
  {
   "cell_type": "code",
   "execution_count": 13,
   "metadata": {},
   "outputs": [],
   "source": [
    "census_api_key = '54d47f0a6d4a13edccfc82e1e50164d068a05b3f'"
   ]
  },
  {
   "cell_type": "code",
   "execution_count": 14,
   "metadata": {},
   "outputs": [],
   "source": [
    "url_str = 'https://api.census.gov/data/2017/acs/acs5?get=B01001_001E,NAME&for=county:*&in=state:51&key='+census_api_key"
   ]
  },
  {
   "cell_type": "markdown",
   "metadata": {},
   "source": [
    "# Q2.1"
   ]
  },
  {
   "cell_type": "code",
   "execution_count": 22,
   "metadata": {},
   "outputs": [
    {
     "name": "stdout",
     "output_type": "stream",
     "text": [
      "['B01001_001E', 'NAME', 'state', 'county']\n",
      "1142004 Fairfax County, Virginia\n"
     ]
    }
   ],
   "source": [
    "if html_str:\n",
    "    json_data = json.loads(html_str)\n",
    "    print (json_data[0])\n",
    "    max_p = 0\n",
    "    max_c = ''\n",
    "    for v1,name,state,county in json_data[1:]:\n",
    "        if max_p< int(v1):\n",
    "            max_p = int(v1)\n",
    "            max_c = name\n",
    "print (max_p,max_c)"
   ]
  },
  {
   "cell_type": "markdown",
   "metadata": {},
   "source": [
    "# Q2.2"
   ]
  },
  {
   "cell_type": "code",
   "execution_count": 33,
   "metadata": {},
   "outputs": [],
   "source": [
    "url_str = 'https://api.census.gov/data/2017/acs/acs5?get=B01001_002E,NAME&for=county:*&in=state:51&key='+census_api_key"
   ]
  },
  {
   "cell_type": "code",
   "execution_count": 36,
   "metadata": {},
   "outputs": [
    {
     "name": "stdout",
     "output_type": "stream",
     "text": [
      "https://api.census.gov/data/2017/acs/acs5?get=B01001_002E,NAME&for=county:*&in=state:51&key=54d47f0a6d4a13edccfc82e1e50164d068a05b3f\n"
     ]
    }
   ],
   "source": [
    "print(url_str)\n",
    "response = request.urlopen(url_str) # read the response into computer\n",
    "\n",
    "html_str = response.read().decode(\"utf-8\") # convert the response into string"
   ]
  },
  {
   "cell_type": "code",
   "execution_count": 37,
   "metadata": {},
   "outputs": [
    {
     "name": "stdout",
     "output_type": "stream",
     "text": [
      "['B01001_002E', 'NAME', 'state', 'county']\n",
      "565593 Fairfax County, Virginia\n"
     ]
    }
   ],
   "source": [
    "if html_str:\n",
    "    json_data = json.loads(html_str)\n",
    "    print (json_data[0])\n",
    "    max_p = 0\n",
    "    max_c = ''\n",
    "    for v1,name,state,county in json_data[1:]:\n",
    "        if max_p< int(v1):\n",
    "            max_p = int(v1)\n",
    "            max_c = name\n",
    "print (max_p,max_c)"
   ]
  },
  {
   "cell_type": "markdown",
   "metadata": {},
   "source": [
    "# Q2.3"
   ]
  },
  {
   "cell_type": "code",
   "execution_count": 38,
   "metadata": {},
   "outputs": [
    {
     "name": "stdout",
     "output_type": "stream",
     "text": [
      "https://api.census.gov/data/2017/acs/acs5?get=B01001_001E,B01001_002E,NAME&for=county:*&in=state:51&key=54d47f0a6d4a13edccfc82e1e50164d068a05b3f\n"
     ]
    }
   ],
   "source": [
    "url_str = 'https://api.census.gov/data/2017/acs/acs5?get=B01001_001E,B01001_002E,NAME&for=county:*&in=state:51&key='+census_api_key\n",
    "print (url_str)\n",
    "response = request.urlopen(url_str) # read the response into computer\n",
    "\n",
    "html_str = response.read().decode(\"utf-8\") # convert the response into string"
   ]
  },
  {
   "cell_type": "code",
   "execution_count": 43,
   "metadata": {},
   "outputs": [
    {
     "name": "stdout",
     "output_type": "stream",
     "text": [
      "['B01001_001E', 'B01001_002E', 'NAME', 'state', 'county']\n",
      "0.6513152220784821 Sussex County, Virginia\n"
     ]
    }
   ],
   "source": [
    "if html_str:\n",
    "    json_data = json.loads(html_str)\n",
    "    print (json_data[0])\n",
    "    max_p = 0\n",
    "    max_c = ''\n",
    "    for v1,v2,name,state,county in json_data[1:]:\n",
    "        if max_p< int(v2)/int(v1):\n",
    "            max_p = int(v2)/int(v1)\n",
    "            max_c = name\n",
    "print (max_p,max_c)"
   ]
  },
  {
   "cell_type": "code",
   "execution_count": null,
   "metadata": {},
   "outputs": [],
   "source": []
  }
 ],
 "metadata": {
  "kernelspec": {
   "display_name": "Python 3",
   "language": "python",
   "name": "python3"
  },
  "language_info": {
   "codemirror_mode": {
    "name": "ipython",
    "version": 3
   },
   "file_extension": ".py",
   "mimetype": "text/x-python",
   "name": "python",
   "nbconvert_exporter": "python",
   "pygments_lexer": "ipython3",
   "version": "3.6.5"
  }
 },
 "nbformat": 4,
 "nbformat_minor": 2
}
