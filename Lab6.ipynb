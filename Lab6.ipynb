{
 "cells": [
  {
   "cell_type": "markdown",
   "metadata": {},
   "source": [
    "# Step 3"
   ]
  },
  {
   "cell_type": "code",
   "execution_count": 1,
   "metadata": {},
   "outputs": [],
   "source": [
    "from urllib import request\n",
    "import json\n",
    "from pprint import pprint\n",
    "import xlwt"
   ]
  },
  {
   "cell_type": "code",
   "execution_count": 2,
   "metadata": {},
   "outputs": [],
   "source": [
    "census_api_key = '54d47f0a6d4a13edccfc82e1e50164d068a05b3f'"
   ]
  },
  {
   "cell_type": "code",
   "execution_count": 3,
   "metadata": {},
   "outputs": [],
   "source": [
    "url_str = 'https://api.census.gov/data/2017/acs/acs5?get=B01001_001E,B01001_002E,NAME&for=county:*&in=state:51&key='+census_api_key"
   ]
  },
  {
   "cell_type": "code",
   "execution_count": 4,
   "metadata": {},
   "outputs": [
    {
     "name": "stdout",
     "output_type": "stream",
     "text": [
      "https://api.census.gov/data/2017/acs/acs5?get=B01001_001E,B01001_002E,NAME&for=county:*&in=state:51&key=54d47f0a6d4a13edccfc82e1e50164d068a05b3f\n"
     ]
    }
   ],
   "source": [
    "print(url_str)"
   ]
  },
  {
   "cell_type": "code",
   "execution_count": 5,
   "metadata": {},
   "outputs": [],
   "source": [
    "response = request.urlopen(url_str) # read the response into computer\n",
    "\n",
    "html_str = response.read().decode(\"utf-8\")"
   ]
  },
  {
   "cell_type": "code",
   "execution_count": 6,
   "metadata": {},
   "outputs": [],
   "source": [
    "book = xlwt.Workbook() # create a new excel file\n",
    "sheet = book.add_sheet('va_pop') # add a new sheet named test\n",
    "i=0\n",
    "        \n",
    "if html_str:\n",
    "    json_data = json.loads(html_str)\n",
    "    for record in json_data:\n",
    "        total_pop, male_pop, name, state, count_num=record\n",
    "        sheet.write(i,0,total_pop)\n",
    "        sheet.write(i,1,male_pop)\n",
    "        i +=1\n",
    "book.save('census.xls')"
   ]
  },
  {
   "cell_type": "markdown",
   "metadata": {},
   "source": [
    "# Step 4"
   ]
  },
  {
   "cell_type": "code",
   "execution_count": 9,
   "metadata": {},
   "outputs": [],
   "source": [
    "import xlrd\n",
    "book = xlrd.open_workbook('census.xls')\n",
    "sheet = book.sheet_by_name(\"va_pop\")"
   ]
  },
  {
   "cell_type": "code",
   "execution_count": 15,
   "metadata": {},
   "outputs": [
    {
     "name": "stdout",
     "output_type": "stream",
     "text": [
      "['B01001_001E', 'B01001_002E']\n",
      "['7022', '3437']\n",
      "['49795', '25057']\n",
      "['28033', '13849']\n",
      "['19213', '9387']\n",
      "['103218', '50653']\n",
      "['12369', '6367']\n",
      "['35265', '17341']\n",
      "['5495', '2488']\n",
      "['29048', '14200']\n"
     ]
    }
   ],
   "source": [
    "for i in range(sheet.nrows):\n",
    "    row = sheet.row_values(i)\n",
    "    if i<10:\n",
    "        print(row)"
   ]
  },
  {
   "cell_type": "markdown",
   "metadata": {},
   "source": [
    "# Step 5"
   ]
  },
  {
   "cell_type": "code",
   "execution_count": 16,
   "metadata": {},
   "outputs": [],
   "source": [
    " from xlutils.copy import copy"
   ]
  },
  {
   "cell_type": "code",
   "execution_count": 19,
   "metadata": {},
   "outputs": [],
   "source": [
    "read_book = xlrd.open_workbook('census.xls')\n",
    "my_sheet = read_book.sheet_by_name('va_pop')\n",
    "num_rows = my_sheet.nrows\n",
    "write_book = copy(read_book)\n",
    "\n",
    "write_sheet = write_book.get_sheet(0)\n",
    "\n",
    "for i in range(num_rows):\n",
    "    row = my_sheet.row_values(i)\n",
    "    B01001_001E, B01001_002E=row\n",
    "    if i ==0:\n",
    "        write_sheet.write(i,2,'male/total ratio')\n",
    "    else:\n",
    "        write_sheet.write(i,2,int(B01001_001E)/int(B01001_002E))\n",
    "        \n",
    "write_book.save('census.xls')"
   ]
  },
  {
   "cell_type": "markdown",
   "metadata": {},
   "source": [
    "# Step 6"
   ]
  },
  {
   "cell_type": "code",
   "execution_count": 20,
   "metadata": {},
   "outputs": [],
   "source": [
    "import xlrd\n",
    "book = xlrd.open_workbook('census.xls')\n",
    "sheet = book.sheet_by_name(\"va_pop\")"
   ]
  },
  {
   "cell_type": "code",
   "execution_count": 21,
   "metadata": {},
   "outputs": [
    {
     "name": "stdout",
     "output_type": "stream",
     "text": [
      "['B01001_001E', 'B01001_002E', 'male/total ratio']\n",
      "['7022', '3437', 2.0430608088449227]\n",
      "['49795', '25057', 1.987269026619308]\n",
      "['28033', '13849', 2.024189472164055]\n",
      "['19213', '9387', 2.046766805156067]\n",
      "['103218', '50653', 2.03774702386828]\n",
      "['12369', '6367', 1.9426731584733783]\n",
      "['35265', '17341', 2.0336197451127385]\n",
      "['5495', '2488', 2.2086012861736335]\n",
      "['29048', '14200', 2.0456338028169014]\n"
     ]
    }
   ],
   "source": [
    "for i in range(sheet.nrows):\n",
    "    row = sheet.row_values(i)\n",
    "    if i<10:\n",
    "        print(row)"
   ]
  },
  {
   "cell_type": "code",
   "execution_count": null,
   "metadata": {},
   "outputs": [],
   "source": []
  }
 ],
 "metadata": {
  "kernelspec": {
   "display_name": "Python 3",
   "language": "python",
   "name": "python3"
  },
  "language_info": {
   "codemirror_mode": {
    "name": "ipython",
    "version": 3
   },
   "file_extension": ".py",
   "mimetype": "text/x-python",
   "name": "python",
   "nbconvert_exporter": "python",
   "pygments_lexer": "ipython3",
   "version": "3.6.5"
  }
 },
 "nbformat": 4,
 "nbformat_minor": 2
}
