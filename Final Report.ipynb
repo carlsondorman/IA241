{
 "cells": [
  {
   "cell_type": "markdown",
   "metadata": {},
   "source": [
    "# Final 241"
   ]
  },
  {
   "cell_type": "markdown",
   "metadata": {},
   "source": [
    "## Introduction\n",
    "For this project we gathered 20 job posting from various companies and agencies throughout the US. The job postings were then added to an excel file listed below."
   ]
  },
  {
   "cell_type": "markdown",
   "metadata": {},
   "source": [
    "# Data used in this project: <a href='inteljobs.xls'>data</a>"
   ]
  },
  {
   "cell_type": "code",
   "execution_count": 1,
   "metadata": {},
   "outputs": [
    {
     "data": {
      "text/html": [
       "<div>\n",
       "<style scoped>\n",
       "    .dataframe tbody tr th:only-of-type {\n",
       "        vertical-align: middle;\n",
       "    }\n",
       "\n",
       "    .dataframe tbody tr th {\n",
       "        vertical-align: top;\n",
       "    }\n",
       "\n",
       "    .dataframe thead th {\n",
       "        text-align: right;\n",
       "    }\n",
       "</style>\n",
       "<table border=\"1\" class=\"dataframe\">\n",
       "  <thead>\n",
       "    <tr style=\"text-align: right;\">\n",
       "      <th></th>\n",
       "      <th>Job Title</th>\n",
       "      <th>Company Name</th>\n",
       "      <th>Posted Date</th>\n",
       "      <th>Job Location</th>\n",
       "      <th>Minimal Salary</th>\n",
       "      <th>Job Duties</th>\n",
       "      <th>Required Skills</th>\n",
       "      <th>Min Yr Exp</th>\n",
       "      <th>Min Edu</th>\n",
       "      <th>Job URL</th>\n",
       "    </tr>\n",
       "  </thead>\n",
       "  <tbody>\n",
       "    <tr>\n",
       "      <th>0</th>\n",
       "      <td>Intelligence Analyst/Advisor</td>\n",
       "      <td>US Dept of the Navy</td>\n",
       "      <td>2019-11-02</td>\n",
       "      <td>Afghanistan</td>\n",
       "      <td>73375</td>\n",
       "      <td>\\n\\nYou will serve as an INTELLIGENCE ANALYST/...</td>\n",
       "      <td>Coordination and organization skills</td>\n",
       "      <td>1</td>\n",
       "      <td>NaN</td>\n",
       "      <td>https://www.usajobs.gov/GetJob/ViewDetails/515...</td>\n",
       "    </tr>\n",
       "    <tr>\n",
       "      <th>1</th>\n",
       "      <td>Intelligence Analyst</td>\n",
       "      <td>Global Dimensions</td>\n",
       "      <td>2019-04-24</td>\n",
       "      <td>Mclean, Va</td>\n",
       "      <td>75000</td>\n",
       "      <td>Global Dimensions has immediate openings for t...</td>\n",
       "      <td>Relay and articulate information</td>\n",
       "      <td>0</td>\n",
       "      <td>NaN</td>\n",
       "      <td>https://www.indeed.com/jobs?q=intelligence%20a...</td>\n",
       "    </tr>\n",
       "    <tr>\n",
       "      <th>2</th>\n",
       "      <td>Intelligence Specialist</td>\n",
       "      <td>US Dept of the Navy</td>\n",
       "      <td>2019-04-23</td>\n",
       "      <td>Arlington, Va</td>\n",
       "      <td>99172</td>\n",
       "      <td>You will attend National, DoD and Marine Corps...</td>\n",
       "      <td>Coordinating skills</td>\n",
       "      <td>1</td>\n",
       "      <td>NaN</td>\n",
       "      <td>https://www.usajobs.gov/GetJob/ViewDetails/531...</td>\n",
       "    </tr>\n",
       "    <tr>\n",
       "      <th>3</th>\n",
       "      <td>Imagery Analyst</td>\n",
       "      <td>National Geospatial-Intelligence Agency</td>\n",
       "      <td>2019-04-22</td>\n",
       "      <td>Fallon, NV</td>\n",
       "      <td>89762</td>\n",
       "      <td>The GEOINT Targeting Support Analyst, a member...</td>\n",
       "      <td>Experience with Imaging Systems</td>\n",
       "      <td>0</td>\n",
       "      <td>NaN</td>\n",
       "      <td>https://www.usajobs.gov/GetJob/ViewDetails/531...</td>\n",
       "    </tr>\n",
       "    <tr>\n",
       "      <th>4</th>\n",
       "      <td>Intelligence Research Specialist</td>\n",
       "      <td>Customs and Border Protection</td>\n",
       "      <td>2019-04-22</td>\n",
       "      <td>Yuma, Az</td>\n",
       "      <td>88704</td>\n",
       "      <td>Contributing to short and long term planning t...</td>\n",
       "      <td>Experience with open-source intelligence</td>\n",
       "      <td>1</td>\n",
       "      <td>NaN</td>\n",
       "      <td>https://www.indeed.com/jobs?q=Intelligence%20A...</td>\n",
       "    </tr>\n",
       "    <tr>\n",
       "      <th>5</th>\n",
       "      <td>Investigative Analyst</td>\n",
       "      <td>Naval Criminal Investigative Service</td>\n",
       "      <td>2019-04-22</td>\n",
       "      <td>DC</td>\n",
       "      <td>57510</td>\n",
       "      <td>You will evaluate case information relative to...</td>\n",
       "      <td>NaN</td>\n",
       "      <td>1</td>\n",
       "      <td>Masters</td>\n",
       "      <td>https://www.usajobs.gov/GetJob/ViewDetails/531...</td>\n",
       "    </tr>\n",
       "    <tr>\n",
       "      <th>6</th>\n",
       "      <td>Intelligence Research Specialist</td>\n",
       "      <td>Dept of Homeland Security</td>\n",
       "      <td>2019-04-22</td>\n",
       "      <td>DC</td>\n",
       "      <td>57510</td>\n",
       "      <td>Writing and coordinating the development of ta...</td>\n",
       "      <td>Cyber Intelligence Skills</td>\n",
       "      <td>1</td>\n",
       "      <td>NaN</td>\n",
       "      <td>https://www.usajobs.gov/GetJob/ViewDetails/531...</td>\n",
       "    </tr>\n",
       "    <tr>\n",
       "      <th>7</th>\n",
       "      <td>Operations Research Analyst</td>\n",
       "      <td>City of Dallas</td>\n",
       "      <td>2019-04-21</td>\n",
       "      <td>Dallas, Tx</td>\n",
       "      <td>50201</td>\n",
       "      <td>Housing &amp; Community Services – Office of Homel...</td>\n",
       "      <td>Written and Oral briefings</td>\n",
       "      <td>4</td>\n",
       "      <td>Bachelors</td>\n",
       "      <td>https://www.indeed.com/jobs?q=Intelligence%20A...</td>\n",
       "    </tr>\n",
       "    <tr>\n",
       "      <th>8</th>\n",
       "      <td>Business Operations Analyst</td>\n",
       "      <td>Navy Federal Credit Union</td>\n",
       "      <td>2019-04-20</td>\n",
       "      <td>Pensacola, Fl</td>\n",
       "      <td>65000</td>\n",
       "      <td>Evaluate operational efficiency and effectiven...</td>\n",
       "      <td>Business Administration</td>\n",
       "      <td>0</td>\n",
       "      <td>Bachelors</td>\n",
       "      <td>https://careers.navyfederal.org/psc/hrext/NFCU...</td>\n",
       "    </tr>\n",
       "    <tr>\n",
       "      <th>9</th>\n",
       "      <td>Intelligence Specialist</td>\n",
       "      <td>Department of the Army</td>\n",
       "      <td>2019-04-19</td>\n",
       "      <td>Charlottesville, Va</td>\n",
       "      <td>104821</td>\n",
       "      <td>Serves as a senior scientific and technical (S...</td>\n",
       "      <td>Data Collection / Analysis skills</td>\n",
       "      <td>0</td>\n",
       "      <td>NaN</td>\n",
       "      <td>https://www.indeed.com/jobs?q=Intelligence%20A...</td>\n",
       "    </tr>\n",
       "    <tr>\n",
       "      <th>10</th>\n",
       "      <td>Intelligence Analyst</td>\n",
       "      <td>City of St. Petersburg</td>\n",
       "      <td>2019-04-16</td>\n",
       "      <td>St. Petersburg, Fl</td>\n",
       "      <td>44952</td>\n",
       "      <td>\\n\\nThis is professional and technical work co...</td>\n",
       "      <td>NaN</td>\n",
       "      <td>0</td>\n",
       "      <td>Bachelors</td>\n",
       "      <td>https://athena.stpete.org/OA_HTML/OA.jsp?page=...</td>\n",
       "    </tr>\n",
       "    <tr>\n",
       "      <th>11</th>\n",
       "      <td>Business Intelligence Analyst</td>\n",
       "      <td>Arteza</td>\n",
       "      <td>2019-04-15</td>\n",
       "      <td>Miami, Fl</td>\n",
       "      <td>75000</td>\n",
       "      <td>Build dashboards (using Tableau, Python and ot...</td>\n",
       "      <td>Experience with BI tools</td>\n",
       "      <td>3</td>\n",
       "      <td>Bachelors</td>\n",
       "      <td>https://www.indeed.com/jobs?q=business%20analy...</td>\n",
       "    </tr>\n",
       "    <tr>\n",
       "      <th>12</th>\n",
       "      <td>Intelligence Research Specialist</td>\n",
       "      <td>US Dept of Homeland Security</td>\n",
       "      <td>2019-04-15</td>\n",
       "      <td>DC</td>\n",
       "      <td>57510</td>\n",
       "      <td>Interpreting specialized datasets or other int...</td>\n",
       "      <td>NaN</td>\n",
       "      <td>1</td>\n",
       "      <td>Bachelors</td>\n",
       "      <td>https://www.usajobs.gov/GetJob/ViewDetails/530...</td>\n",
       "    </tr>\n",
       "    <tr>\n",
       "      <th>13</th>\n",
       "      <td>Intelligence Research Specialist</td>\n",
       "      <td>US Dept of Homeland Security</td>\n",
       "      <td>2019-04-15</td>\n",
       "      <td>DC</td>\n",
       "      <td>57510</td>\n",
       "      <td>Interpreting specialized datasets or other int...</td>\n",
       "      <td>Experience conducting and analyis of threats</td>\n",
       "      <td>1</td>\n",
       "      <td>Masters</td>\n",
       "      <td>https://www.usajobs.gov/GetJob/ViewDetails/530...</td>\n",
       "    </tr>\n",
       "    <tr>\n",
       "      <th>14</th>\n",
       "      <td>Intelligence Research Specialist</td>\n",
       "      <td>US Dept of the Treasury</td>\n",
       "      <td>2019-04-15</td>\n",
       "      <td>DC</td>\n",
       "      <td>99172</td>\n",
       "      <td>Serves as a technical expert on writing, editi...</td>\n",
       "      <td>Written and Oral briefings</td>\n",
       "      <td>1</td>\n",
       "      <td>NaN</td>\n",
       "      <td>https://www.usajobs.gov/GetJob/ViewDetails/530...</td>\n",
       "    </tr>\n",
       "    <tr>\n",
       "      <th>15</th>\n",
       "      <td>Intelligence Research Specialist</td>\n",
       "      <td>US Dept of State</td>\n",
       "      <td>2019-04-11</td>\n",
       "      <td>DC</td>\n",
       "      <td>83398</td>\n",
       "      <td>At the GS-12 level, the incumbent performs ess...</td>\n",
       "      <td>Written and Oral briefings</td>\n",
       "      <td>1</td>\n",
       "      <td>NaN</td>\n",
       "      <td>https://www.usajobs.gov/GetJob/ViewDetails/530...</td>\n",
       "    </tr>\n",
       "    <tr>\n",
       "      <th>16</th>\n",
       "      <td>Intelligence Specialist</td>\n",
       "      <td>U.S.  Army Intelligence and Security Command</td>\n",
       "      <td>2019-04-09</td>\n",
       "      <td>Arlington, Va</td>\n",
       "      <td>114590</td>\n",
       "      <td>Serves as the HQDA and ODCSINT intelligence ex...</td>\n",
       "      <td>2 yr probation period</td>\n",
       "      <td>0</td>\n",
       "      <td>NaN</td>\n",
       "      <td>https://www.usajobs.gov/GetJob/ViewDetails/529...</td>\n",
       "    </tr>\n",
       "    <tr>\n",
       "      <th>17</th>\n",
       "      <td>Counterterrorism Intelligence Analyst</td>\n",
       "      <td>IntelCenter</td>\n",
       "      <td>2019-03-23</td>\n",
       "      <td>DC</td>\n",
       "      <td>45000</td>\n",
       "      <td>Work involves providing current intelligence c...</td>\n",
       "      <td>Strong critical thinking and writing skills</td>\n",
       "      <td>1</td>\n",
       "      <td>Bachelors</td>\n",
       "      <td>https://www.indeed.com/q-Intelligence-Analyst-...</td>\n",
       "    </tr>\n",
       "    <tr>\n",
       "      <th>18</th>\n",
       "      <td>Political Analyst</td>\n",
       "      <td>Central Intelligence Agency</td>\n",
       "      <td>2019-01-01</td>\n",
       "      <td>DC</td>\n",
       "      <td>54308</td>\n",
       "      <td>As a Political Analyst for the CIA, you will s...</td>\n",
       "      <td>Good Communication</td>\n",
       "      <td>0</td>\n",
       "      <td>Bachelors</td>\n",
       "      <td>https://www.cia.gov/careers/opportunities/anal...</td>\n",
       "    </tr>\n",
       "    <tr>\n",
       "      <th>19</th>\n",
       "      <td>Supervisory Financial Analyst</td>\n",
       "      <td>US Dept of the Treasury</td>\n",
       "      <td>2018-08-27</td>\n",
       "      <td>DC</td>\n",
       "      <td>141590</td>\n",
       "      <td>Assist the Director in all aspects of managing...</td>\n",
       "      <td>Engagement skills</td>\n",
       "      <td>1</td>\n",
       "      <td>NaN</td>\n",
       "      <td>https://www.usajobs.gov/GetJob/ViewDetails/509...</td>\n",
       "    </tr>\n",
       "  </tbody>\n",
       "</table>\n",
       "</div>"
      ],
      "text/plain": [
       "                                Job Title  \\\n",
       "0            Intelligence Analyst/Advisor   \n",
       "1                    Intelligence Analyst   \n",
       "2                 Intelligence Specialist   \n",
       "3                         Imagery Analyst   \n",
       "4        Intelligence Research Specialist   \n",
       "5                   Investigative Analyst   \n",
       "6        Intelligence Research Specialist   \n",
       "7             Operations Research Analyst   \n",
       "8             Business Operations Analyst   \n",
       "9                 Intelligence Specialist   \n",
       "10                   Intelligence Analyst   \n",
       "11          Business Intelligence Analyst   \n",
       "12       Intelligence Research Specialist   \n",
       "13       Intelligence Research Specialist   \n",
       "14       Intelligence Research Specialist   \n",
       "15       Intelligence Research Specialist   \n",
       "16                Intelligence Specialist   \n",
       "17  Counterterrorism Intelligence Analyst   \n",
       "18                      Political Analyst   \n",
       "19          Supervisory Financial Analyst   \n",
       "\n",
       "                                    Company Name Posted Date  \\\n",
       "0                            US Dept of the Navy  2019-11-02   \n",
       "1                              Global Dimensions  2019-04-24   \n",
       "2                            US Dept of the Navy  2019-04-23   \n",
       "3        National Geospatial-Intelligence Agency  2019-04-22   \n",
       "4                  Customs and Border Protection  2019-04-22   \n",
       "5           Naval Criminal Investigative Service  2019-04-22   \n",
       "6                      Dept of Homeland Security  2019-04-22   \n",
       "7                                 City of Dallas  2019-04-21   \n",
       "8                      Navy Federal Credit Union  2019-04-20   \n",
       "9                         Department of the Army  2019-04-19   \n",
       "10                        City of St. Petersburg  2019-04-16   \n",
       "11                                        Arteza  2019-04-15   \n",
       "12                  US Dept of Homeland Security  2019-04-15   \n",
       "13                  US Dept of Homeland Security  2019-04-15   \n",
       "14                       US Dept of the Treasury  2019-04-15   \n",
       "15                              US Dept of State  2019-04-11   \n",
       "16  U.S.  Army Intelligence and Security Command  2019-04-09   \n",
       "17                                   IntelCenter  2019-03-23   \n",
       "18                   Central Intelligence Agency  2019-01-01   \n",
       "19                       US Dept of the Treasury  2018-08-27   \n",
       "\n",
       "           Job Location  Minimal Salary  \\\n",
       "0           Afghanistan           73375   \n",
       "1            Mclean, Va           75000   \n",
       "2         Arlington, Va           99172   \n",
       "3            Fallon, NV           89762   \n",
       "4              Yuma, Az           88704   \n",
       "5                    DC           57510   \n",
       "6                    DC           57510   \n",
       "7            Dallas, Tx           50201   \n",
       "8         Pensacola, Fl           65000   \n",
       "9   Charlottesville, Va          104821   \n",
       "10   St. Petersburg, Fl           44952   \n",
       "11            Miami, Fl           75000   \n",
       "12                   DC           57510   \n",
       "13                   DC           57510   \n",
       "14                   DC           99172   \n",
       "15                   DC           83398   \n",
       "16        Arlington, Va          114590   \n",
       "17                   DC           45000   \n",
       "18                   DC           54308   \n",
       "19                   DC          141590   \n",
       "\n",
       "                                           Job Duties  \\\n",
       "0   \\n\\nYou will serve as an INTELLIGENCE ANALYST/...   \n",
       "1   Global Dimensions has immediate openings for t...   \n",
       "2   You will attend National, DoD and Marine Corps...   \n",
       "3   The GEOINT Targeting Support Analyst, a member...   \n",
       "4   Contributing to short and long term planning t...   \n",
       "5   You will evaluate case information relative to...   \n",
       "6   Writing and coordinating the development of ta...   \n",
       "7   Housing & Community Services – Office of Homel...   \n",
       "8   Evaluate operational efficiency and effectiven...   \n",
       "9   Serves as a senior scientific and technical (S...   \n",
       "10  \\n\\nThis is professional and technical work co...   \n",
       "11  Build dashboards (using Tableau, Python and ot...   \n",
       "12  Interpreting specialized datasets or other int...   \n",
       "13  Interpreting specialized datasets or other int...   \n",
       "14  Serves as a technical expert on writing, editi...   \n",
       "15  At the GS-12 level, the incumbent performs ess...   \n",
       "16  Serves as the HQDA and ODCSINT intelligence ex...   \n",
       "17  Work involves providing current intelligence c...   \n",
       "18  As a Political Analyst for the CIA, you will s...   \n",
       "19  Assist the Director in all aspects of managing...   \n",
       "\n",
       "                                 Required Skills  Min Yr Exp    Min Edu  \\\n",
       "0           Coordination and organization skills           1        NaN   \n",
       "1               Relay and articulate information           0        NaN   \n",
       "2                            Coordinating skills           1        NaN   \n",
       "3                Experience with Imaging Systems           0        NaN   \n",
       "4       Experience with open-source intelligence           1        NaN   \n",
       "5                                            NaN           1    Masters   \n",
       "6                      Cyber Intelligence Skills           1        NaN   \n",
       "7                     Written and Oral briefings           4  Bachelors   \n",
       "8                        Business Administration           0  Bachelors   \n",
       "9              Data Collection / Analysis skills           0        NaN   \n",
       "10                                           NaN           0  Bachelors   \n",
       "11                      Experience with BI tools           3  Bachelors   \n",
       "12                                           NaN           1  Bachelors   \n",
       "13  Experience conducting and analyis of threats           1    Masters   \n",
       "14                    Written and Oral briefings           1        NaN   \n",
       "15                    Written and Oral briefings           1        NaN   \n",
       "16                         2 yr probation period           0        NaN   \n",
       "17   Strong critical thinking and writing skills           1  Bachelors   \n",
       "18                            Good Communication           0  Bachelors   \n",
       "19                             Engagement skills           1        NaN   \n",
       "\n",
       "                                              Job URL  \n",
       "0   https://www.usajobs.gov/GetJob/ViewDetails/515...  \n",
       "1   https://www.indeed.com/jobs?q=intelligence%20a...  \n",
       "2   https://www.usajobs.gov/GetJob/ViewDetails/531...  \n",
       "3   https://www.usajobs.gov/GetJob/ViewDetails/531...  \n",
       "4   https://www.indeed.com/jobs?q=Intelligence%20A...  \n",
       "5   https://www.usajobs.gov/GetJob/ViewDetails/531...  \n",
       "6   https://www.usajobs.gov/GetJob/ViewDetails/531...  \n",
       "7   https://www.indeed.com/jobs?q=Intelligence%20A...  \n",
       "8   https://careers.navyfederal.org/psc/hrext/NFCU...  \n",
       "9   https://www.indeed.com/jobs?q=Intelligence%20A...  \n",
       "10  https://athena.stpete.org/OA_HTML/OA.jsp?page=...  \n",
       "11  https://www.indeed.com/jobs?q=business%20analy...  \n",
       "12  https://www.usajobs.gov/GetJob/ViewDetails/530...  \n",
       "13  https://www.usajobs.gov/GetJob/ViewDetails/530...  \n",
       "14  https://www.usajobs.gov/GetJob/ViewDetails/530...  \n",
       "15  https://www.usajobs.gov/GetJob/ViewDetails/530...  \n",
       "16  https://www.usajobs.gov/GetJob/ViewDetails/529...  \n",
       "17  https://www.indeed.com/q-Intelligence-Analyst-...  \n",
       "18  https://www.cia.gov/careers/opportunities/anal...  \n",
       "19  https://www.usajobs.gov/GetJob/ViewDetails/509...  "
      ]
     },
     "execution_count": 1,
     "metadata": {},
     "output_type": "execute_result"
    }
   ],
   "source": [
    "import pandas\n",
    "df = pandas.read_excel(\"inteljobs.xls\")\n",
    "df[:20]"
   ]
  },
  {
   "cell_type": "markdown",
   "metadata": {},
   "source": [
    "# Question 1 - What are the common job titles?"
   ]
  },
  {
   "cell_type": "code",
   "execution_count": 36,
   "metadata": {},
   "outputs": [],
   "source": [
    "from collections import Counter\n",
    "import xlrd\n",
    "book = xlrd.open_workbook('inteljobs.xls')\n",
    "sheet = book.sheet_by_name('data')\n",
    "Job_Title_list = []\n",
    "Company_Name_list = []\n",
    "Posted_Date_list = []\n",
    "Job_Location_list = []\n",
    "Minimal_Salary_list = []\n",
    "Job_Duties_list = []\n",
    "Required_Skills_list = []\n",
    "Min_Yr_Exp_list = []\n",
    "Min_Edu_list = []\n",
    "Job_URL_list = []"
   ]
  },
  {
   "cell_type": "code",
   "execution_count": 39,
   "metadata": {
    "scrolled": true
   },
   "outputs": [],
   "source": [
    "for i in range(sheet.nrows):\n",
    "    Job_Title,Company_Name,Posted_Date,Job_Location,Minimal_Salary,Job_Duties,Required_Skills,Min_Yr_Exp,Min_Edu,Job_URL = sheet.row_values(i)\n",
    "    if i !=0:\n",
    "        Job_Title_list.append(Job_Title)\n",
    "        Company_Name_list.append(Company_Name)\n",
    "        Posted_Date_list.append(Posted_Date)\n",
    "        Job_Location_list.append(Job_Location)\n",
    "        Minimal_Salary_list.append(Minimal_Salary)\n",
    "        Job_Duties_list.append(Job_Duties)\n",
    "        Required_Skills_list.append(Required_Skills)\n",
    "        Min_Yr_Exp_list.append(Min_Yr_Exp)\n",
    "        Min_Edu_list.append(Min_Edu)\n",
    "        Job_URL_list.append(Job_URL)"
   ]
  },
  {
   "cell_type": "code",
   "execution_count": 40,
   "metadata": {},
   "outputs": [
    {
     "name": "stdout",
     "output_type": "stream",
     "text": [
      "Intelligence Research Specialist 6\n",
      "Intelligence Specialist 3\n",
      "Intelligence Analyst 2\n",
      "Intelligence Analyst/Advisor 1\n",
      "Imagery Analyst 1\n"
     ]
    },
    {
     "data": {
      "image/png": "[encoded data removed]",
      "text/plain": [
       "<Figure size 432x288 with 1 Axes>"
      ]
     },
     "metadata": {},
     "output_type": "display_data"
    }
   ],
   "source": [
    "count_result=Counter(Job_Title_list)\n",
    "\n",
    "for word, count in count_result.most_common(5):\n",
    "    print (word, count)        \n",
    "import matplotlib.pyplot as plt\n",
    "\n",
    "result=Counter(Job_Title_list)\n",
    "\n",
    "plt.pie(result.values(),labels=result.keys())\n",
    "plt.show()"
   ]
  },
  {
   "cell_type": "markdown",
   "metadata": {},
   "source": [
    "The pie chart above shows that the most common job title is Intelligence Research Specialist with 6 followed closely behind by Intelligence Specialist with 3. "
   ]
  },
  {
   "cell_type": "markdown",
   "metadata": {},
   "source": [
    "# Question 2 - Which company posted the most number of jobs?"
   ]
  },
  {
   "cell_type": "code",
   "execution_count": 35,
   "metadata": {},
   "outputs": [
    {
     "data": {
      "image/png": "[encoded data removed]",
      "text/plain": [
       "<Figure size 432x288 with 1 Axes>"
      ]
     },
     "metadata": {},
     "output_type": "display_data"
    }
   ],
   "source": [
    "from collections import Counter \n",
    "result = Counter(df['Company Name'])\n",
    "plt.barh(list(result.keys()),list(result.values()))\n",
    "plt.show()"
   ]
  },
  {
   "cell_type": "markdown",
   "metadata": {},
   "source": [
    "The chart above shows that the US Dept of Treasury, Homeland Security, and Navy have the most job postings compared to the rest of the companies."
   ]
  },
  {
   "cell_type": "markdown",
   "metadata": {},
   "source": [
    "# Question 3 - How the number of job posts vary by days?"
   ]
  },
  {
   "cell_type": "code",
   "execution_count": 5,
   "metadata": {},
   "outputs": [
    {
     "name": "stdout",
     "output_type": "stream",
     "text": [
      "Counter({Timestamp('2019-04-22 00:00:00'): 4, Timestamp('2019-04-15 00:00:00'): 4, Timestamp('2019-11-02 00:00:00'): 1, Timestamp('2019-04-24 00:00:00'): 1, Timestamp('2019-04-23 00:00:00'): 1, Timestamp('2019-04-21 00:00:00'): 1, Timestamp('2019-04-20 00:00:00'): 1, Timestamp('2019-04-19 00:00:00'): 1, Timestamp('2019-04-16 00:00:00'): 1, Timestamp('2019-04-11 00:00:00'): 1, Timestamp('2019-04-09 00:00:00'): 1, Timestamp('2019-03-23 00:00:00'): 1, Timestamp('2019-01-01 00:00:00'): 1, Timestamp('2018-08-27 00:00:00'): 1})\n"
     ]
    }
   ],
   "source": [
    "from collections import Counter \n",
    "\n",
    "\n",
    "result = Counter(df['Posted Date'])\n",
    "\n",
    "print (result)"
   ]
  },
  {
   "cell_type": "code",
   "execution_count": 6,
   "metadata": {},
   "outputs": [
    {
     "data": {
      "image/png": "[encoded data removed]",
      "text/plain": [
       "<Figure size 1080x216 with 1 Axes>"
      ]
     },
     "metadata": {},
     "output_type": "display_data"
    }
   ],
   "source": [
    "%matplotlib inline\n",
    "import matplotlib.pyplot as plt\n",
    "\n",
    "from matplotlib.pyplot import figure\n",
    "figure(figsize=(15, 3))\n",
    "\n",
    "plt.plot(result.keys(),result.values())\n",
    "plt.show()"
   ]
  },
  {
   "cell_type": "markdown",
   "metadata": {},
   "source": [
    "The line graph above shows that job posts vary by days with the month of April 2019 having the most job postings."
   ]
  },
  {
   "cell_type": "markdown",
   "metadata": {},
   "source": [
    "# Question 4 - Where are the locations of the jobs?"
   ]
  },
  {
   "cell_type": "code",
   "execution_count": 7,
   "metadata": {},
   "outputs": [
    {
     "name": "stdout",
     "output_type": "stream",
     "text": [
      "Counter({'DC': 9, 'Arlington, Va': 2, 'Afghanistan': 1, 'Mclean, Va': 1, 'Fallon, NV': 1, 'Yuma, Az': 1, 'Dallas, Tx': 1, 'Pensacola, Fl': 1, 'Charlottesville, Va': 1, 'St. Petersburg, Fl': 1, 'Miami, Fl': 1})\n"
     ]
    }
   ],
   "source": [
    "from collections import Counter \n",
    "\n",
    "result = Counter(df['Job Location'])\n",
    "\n",
    "print (result)"
   ]
  },
  {
   "cell_type": "markdown",
   "metadata": {},
   "source": [
    "The code above shows that the location with the most about of job posting is Washington DC with 9, followed by Arlington with 2 job postings."
   ]
  },
  {
   "cell_type": "markdown",
   "metadata": {},
   "source": [
    "# Question 5 - What is the average minimal salary?"
   ]
  },
  {
   "cell_type": "code",
   "execution_count": 8,
   "metadata": {},
   "outputs": [
    {
     "name": "stdout",
     "output_type": "stream",
     "text": [
      "the mean of Minimal Salary is 76704.25\n"
     ]
    }
   ],
   "source": [
    "import numpy as np\n",
    "print(\"the mean of {} is {}\".format('Minimal Salary',np.mean(Minimal_Salary_list)))"
   ]
  },
  {
   "cell_type": "markdown",
   "metadata": {},
   "source": [
    "The code above shows that the average minimal salary was around $76,000."
   ]
  },
  {
   "cell_type": "markdown",
   "metadata": {},
   "source": [
    "# Question 6 - What is the average minimal years of experience?"
   ]
  },
  {
   "cell_type": "code",
   "execution_count": 9,
   "metadata": {},
   "outputs": [
    {
     "name": "stdout",
     "output_type": "stream",
     "text": [
      "the mean of Min Yr of Exp is 0.9\n"
     ]
    }
   ],
   "source": [
    "import numpy as np\n",
    "print(\"the mean of {} is {}\".format('Min Yr of Exp',np.mean(Min_Yr_Exp_list)))"
   ]
  },
  {
   "cell_type": "markdown",
   "metadata": {},
   "source": [
    "The code above shows that the average minimal years of job experience is around 9 months."
   ]
  },
  {
   "cell_type": "markdown",
   "metadata": {},
   "source": [
    "# Question 7 - How are the years of experience related to the salaries?"
   ]
  },
  {
   "cell_type": "code",
   "execution_count": 10,
   "metadata": {},
   "outputs": [
    {
     "data": {
      "image/png": "[encoded data removed]",
      "text/plain": [
       "<Figure size 432x288 with 1 Axes>"
      ]
     },
     "metadata": {},
     "output_type": "display_data"
    }
   ],
   "source": [
    "plt.scatter(Min_Yr_Exp_list, Minimal_Salary_list)\n",
    "plt.xlabel('Years of Experience')\n",
    "plt.ylabel('Salary')\n",
    "plt.show()"
   ]
  },
  {
   "cell_type": "markdown",
   "metadata": {},
   "source": [
    "The scatter plot above shows that the majority of the job postings require less than a year of experience but the salaries vary greatly."
   ]
  },
  {
   "cell_type": "markdown",
   "metadata": {},
   "source": [
    "# Question 8 - What are the common job duties?"
   ]
  },
  {
   "cell_type": "code",
   "execution_count": 11,
   "metadata": {},
   "outputs": [
    {
     "name": "stdout",
     "output_type": "stream",
     "text": [
      "\n",
      "\n",
      "You will serve as an INTELLIGENCE ANALYST/ADVISOR with the Department of Defense Expeditionary Civilian (DoD-EC) Workforce. Volunteering to deploy gives civilians an extraordinary opportunity to use their capabilities, experience, and knowledge while directly supporting operations of national interest. Individuals can volunteer to fill critical functions supporting the U.S. Military in foreign locations, to include Afghanistan, Iraq, Kuwait & Qatar.\n",
      "\n",
      "Global Dimensions has immediate openings for those ready to begin an exciting and dynamic intelligence career while supporting critical global counterterrorism operations. By joining our team, you’ll learn FMV tradecraft through a unique three week formal training course, followed by a robust on-the-job training program which provides candidates, who are new to motion GEOINT, specialized instruction in FMV tradecraft, exploitation tools, and theater specific cultural familiarization. Our analysts have rapid advancement potential and cross training opportunities into Synthetic Aperture Radar (SAR)/ Ground Moving Target Indicator (GMTI), FMV training, and FMV Advanced Research positions.\n",
      "You will attend National, DoD and Marine Corps working groups, panels and boards related to CI audit and monitoring of information systems, CI activities in cyberspace and CI support to cyber activities.\n",
      "You will conduct Service-level planning in coordination with the operating forces and HQMC staff sections related to Marine Corps audit and monitoring programs and cyber-related CI programs.\n",
      "You will draft Service-level policy and guidance related to Marine Corps audit and monitoring programs and cyber-related CI programs.\n",
      "\n",
      "\n",
      "\n",
      "The GEOINT Targeting Support Analyst, a member of the Targeting and Transnational Issues Office, Precision Engagement Division (AORT), embedded with the Naval Air Development Warfare Center (NAWDC) Fallon NAS, NV, provides on-site targeting intelligence support and coordinates reach back support for NADWC. Current or previous Precise Point Mensuration certification desired. Familiarity with the \"Target Coordinate Mensuration Certification and Program Accreditation\" process outlined in Chairman Joint Chiefs of Staff (CJCSI) 3505.01D is desired. The analyst provides subject matter expertise for NAWDC personnel in Target Materials production and facilitates tradecraft growth. The analyst provides technical guidance for skills and processes required for target analysis, quality assurance and data management, and specialist advice regarding the application of Targeting-related doctrine, to include Joint Publication 3-60 Joint Targeting, CJCSI 3505.01D Target Coordinate Mensuration Certification and Program Accreditation and CJCSI 3370.01 Target Development Standards. Additionally, the analyst serves as a GEOINT technical advisor for geospatial services, applications, systems, and capabilities supporting the DNI / Intelligence Community Information Technology Environment (IC-ITE) and the DOD / Joint Information Environment (JIE) as well as various other NGA and community initiatives.\n",
      "\n",
      "Contributing to short and long term planning through in-depth research and analysis regarding threats to homeland security\n",
      "Developing new concepts, guides, and methodologies to solve analytical problems, and developing experimental approaches to intelligence collection \n",
      "Compiling, extrapolating, and processing information from CBP databases, open source reporting, intelligence community and law enforcement systems and databases \n",
      "Preparing, reporting, and communicating with high level intelligence community stakeholders \n",
      "Travel Required \n",
      "25% or less - You may be expected to travel for this position. \n",
      "\n",
      "You will evaluate case information relative to ongoing national security counterintelligence investigations to facilitate accurate decision making.\n",
      "You will conducts analysis of complex investigative cases to identify patterns in order to make recommendations regarding jurisdiction and responsibility.\n",
      "You will research complicated cases with disparate information to develop trends and provide accurate information to investigators.\n",
      "You will organize information obtained from databases and shared intelligence to produce products which assist in the detection of trends, identification and modus operandi and highlights potential counterintelligence activity.\n",
      "You will perform statistical analysis reports of counterintelligence sources to promote efficiencies and metrics.\n",
      "You will conduct reviews of counterintelligence reporting and disseminates information to the appropiate special agent or supervisor in the field office.\n",
      "\n",
      "Writing and coordinating the development of tailored all-source intelligence and information products in accordance with the Intelligence Community Directive (ICD) 203.\n",
      "Preparing and briefing cyber intelligence analysis to provide customers with a critical understanding of the cyber threat.\n",
      "Taking the initiative to recommend innovative solutions to improve judgments of adversary intent analysis, capability and opportunity analysis, and identify reliable indicators of future activity.\n",
      "Evaluating and monitoring cyber information to identify threats to the Homeland and develop estimative judgments.\n",
      "Assisting intelligence analysts in producing finished all-source cyber intelligence assessments.\n",
      "\n",
      "Housing & Community Services – Office of Homeless Services - Requires experience designing and working with homelessness systems, conducting surveys, comparative analysis, policy analysis, and gap analysis. Master's degree required, preferably in public administration or social sciences.\n",
      " \n",
      "Park & Recreation: This position will be responsible for large data sets related to park land dedication fees and must have working knowledge of database management, GIS, and records administration.\n",
      " \n",
      "Planning, Strategy & Performance Improvement: Lean/Six Sigma Certification (Black Belt, Green Belt, etc.). Project management experience. Industrial Engineering background/education. Experience working with large data set and creating reports/ dashboards utilizing business intelligence tools (Tableau Desktop, etc.).\n",
      "\n",
      "Evaluate operational efficiency and effectiveness\n",
      "Perform qualitative and quantitative data analysis using analytical techniques, tools, models, simulation, etc.\n",
      "Solve business problems by defining the problem, interviewing stakeholders, identifying and evaluating alternatives, and presenting findings \n",
      "Participate in complex interdepartmental initiatives of significant business risk & impact \n",
      "Obtain quantitative and qualitative data of business processes to analyze, determine and promote data driven decisions \n",
      "Implement new/enhanced products, services and/or operational changes \n",
      "Prepare/collaborate on presentations, reports, white papers, etc. \n",
      "Interpret results of analysis; present recommendations, alternatives and implications \n",
      "Serve on teams and task groups for projects/initiatives within the business unit &/or across the organization\n",
      "Analyze processes and workflows to understand value chain, input/output, to improve and/or automate business performance \n",
      "Perform other related duties as assigned\n",
      "\n",
      "Serves as a senior scientific and technical (S and T) intelligence analyst, with responsibility for production of innovative, integrated intelligence analysis in the area of foreign chemical and biological warfare.\n",
      "Continually expands and/or clarifies definition of critical intelligence issues and trends by thorough research of all-source literature on the subject area and is broad cultural, political, economic and public policy context.\n",
      "Involves professional work in the physical and biological sciences of extreme difficult and technical complexity in advanced areas of S and T analysis.\n",
      "Develops and utilizes new research methodologies or refines traditional techniques to design innovative analytical approaches to difficult intelligence problems.\n",
      "Develops comprehensive collection plans and strategies to address intelligence gaps through innovative use of existing collection assets.\n",
      "Develops overall analytical objectives, project scope and emphasis through a broad assessment of customer requirements, activity and agency mission objectives and significant new information or trends in assigned subject area.\n",
      "Directs and deconflicts production priorities for issues concerning the assigned functional areas and formulates NGIC?s position on critical issues and projects.\n",
      "Produces intelligence assessments in various formats, serves quick-reaction requests, and maintains current briefings in the area of regionalized chemical and biological warfare capabilities and threat assessment.\n",
      "Provides timely, authoritative and sound advice and recommendations on assigned intelligence area through the chain of command.\n",
      "\n",
      "\n",
      "\n",
      "This is professional and technical work conducting detailed research and analysis of confidential intelligence and investigative information relating to criminal activity in order to assist and enhance the effectiveness of law enforcement.  Work may include investigating confidential intelligence information such as financial transactions and related business records; compiling, analyzing and disseminating criminal activity information (in the form of bulletins, intelligence reports,etc); coordinating the exchange of interstate and intrastate information pertaining to criminal activity, syndicated criminal movement and terrorism related incidents; and preparing written reports requiring thorough analysis and evaluation of intelligence and investigative information.  Work requires intricate knowledge of social media; usage of multiple law enforcement databases; the collection of data from other government sources; and the ability to manipulate large quantities of raw data via spreadsheets or database creation. Work includes providing information to assist operations personnel in the identification of specific crime problems (crime patterns/sprees/series) and suspect leads; forecasting future crime occurrences; developing target profile analyses; furnishing support data to community policing and crime prevention programs; and providing data to support departmental planning activities, deployment planning, resource allocation, and budgeting activities.  Work also involves examining existing incident characteristics; identifying modus operandi; and identifying pre-incident indicators and characteristics. Work demands a high level of personal and professional integrity and tenacity to perform complex analysis that assists sensitive and often urgent investigations.\n",
      "\n",
      "\n",
      "\n",
      "Build dashboards (using Tableau, Python and other BI tools) that illustrate how key performance indicators (KPIs) and metrics are changing over time. Provide color and insights from the findings and make recommendations to the business\n",
      "Create a lifetime value report (LTV) by signup month cohort for a paid online content subscription product in order to understand how much we can spend to acquire new customers\n",
      "Create a user-based analysis to understand how different consumers, broken down by behavioral segments, contribute to overall revenue. The ultimate goal is to be able to use this analysis to encourage profitable user behavior or to convert users for one segment to a more profitable one\n",
      "Review and validate customer data as it is collected\n",
      "Assist other team members with SQL queries necessary to extract, transform, or load data as part of integration and analysis development.\n",
      "Oversee the deployment of data to the data warehouse\n",
      "Develop policies, and procedures for the collection and analysis of data\n",
      "Create or discover new data procurement and processing programs\n",
      "Cooperate with Operations/ IT team to deploy software and hardware upgrades that make it possible for us to leverage big data use cases\n",
      "Design and implement complex business visualizations, dashboards, and reports to deliver insights.\n",
      "Analysis of complicated data sets and presenting meaningful outcomes to a variety of stakeholders\n",
      "Facilitate meetings to gather business and data requirements and translates them into report and analysis specifications, for example, Sales Revenue / Gross Profit / Market Share/ Returns / Sales Calls / CSR Productivity / KPI’s\n",
      "Validate, interpret, and project performance metrics and KPI’s\n",
      "Implement new data analysis methodologies\n",
      "Review customer files to ensure the integrity of data collection and utilization\n",
      "Design and implement automated reporting dashboards to track key business metrics\n",
      "Perform data profiling to identify and understand anomalies\n",
      "Monitor product trends, pricing and competitor developments and recommend warehouse stocking levels\n",
      "Analyze product trends and data in formulating marketing platforms\n",
      "\n",
      "Interpreting specialized datasets or other intelligence regarding a target's technological capabilities and produces intelligence assessments that explain their impact on homeland security operations.\n",
      "Applying foundational knowledge of Foreign Intelligence Entity (FIE) capabilities and the ability to leverage Intelligence Community (IC) resources to determine impact on operations within supported components.\n",
      "Gathering information and conducting activities to protect against espionage and other intelligence activities conducted for/or on behalf of FIE.\n",
      "Identifying and advancing opportunities to provide Counterintelligence support to Homeland Security operations and other sensitive activities.\n",
      "Conducting research and analysis of threats to the homeland, operations, and trends to support all source intelligence and production, particularly in the areas of threats to Homeland and National Security.\n",
      "\n",
      "\n",
      "Interpreting specialized datasets or other intelligence regarding a targets technological capabilities and produces intelligence assessments that explain their impact on homeland security operations.\n",
      "Applying foundational knowledge of Foreign Intelligence Entity (FIE) capabilities and the ability to leverage Intelligence Community (IC) resources to determine impact on operations within supported components.\n",
      "Gathering information and conducting activities to protect against espionage and other intelligence activities conducted for/or on behalf of FIE.\n",
      "Identifying and advancing opportunities to provide Counterintelligence support to Homeland Security operations and other sensitive activities.\n",
      "Conducting research and analysis of threats to the homeland, operations, and trends to support all source intelligence and production, particularly in the areas of threats to Homeland and National Security.\n",
      "\n",
      "Serves as a technical expert on writing, editing, and applying best practices in analytic standards, methodologies, and tradecraft to produce in-depth, all-source intelligence reports, papers and assessments.\n",
      "Analyzes and evaluates data to produce conclusions and recommendations for policy-making officials.\n",
      "Initiates and advocates intelligence collection priorities across multiple collection disciplines and mentors junior and mid-level analysts on effectively driving the requirements process.\n",
      "Represents OIA, U.S. Department of the Treasury, at interagency meetings.\n",
      "Designs new methods to solve problems where established methods and procedures are not applicable or are unavailable.\n",
      "\n",
      "At the GS-12 level, the incumbent performs essentially the same duties as outlined below; however, the scope and complexity of assignments are of less responsibility and independence and receives closer than normal supervision than the GS-13 level.\n",
      "Serves as an expert foreign affairs intelligence analyst, providing all-source intelligence analysis of North Korea, including individuals, institutions, decision dynamics, policy trends, and cultural influences in North Korea&#8217;s political system.\n",
      "Prepares written and oral briefings on all-source intelligence for INR and within the U.S. Intelligence Community (IC) for the Presidents Daily Brief (PDB) and National Intelligence Council (NIC).\n",
      "Ensures that the intelligence needs of the State Department policymakers are clearly conveyed to appropriate collection agencies within the IC.\n",
      "Actively represents INR with the IC and other interagency venues. Ensures INR views are represented in the coordination of IC analytic products, including the PDB, NIC, and other interagency communities.\n",
      "Prepares oral briefings of political and security development in the above-mentioned specialty area.\n",
      "\n",
      "Serves as the HQDA and ODCSINT intelligence expert on Russia/Eurasia. Is a recognized authority on these issues within the intelligence community, the Department of Defense, and the academic community.\n",
      "Subject Matter Expert (SME) on Russian military, national security, political, economic, cultural trends.\n",
      "Performs a broad range of immediate and long-range self-initiated staff-level research projects and assessments and acts in an advisory role on Russian national security issues to the Army leadership.\n",
      "\n",
      "\n",
      "Work involves providing current intelligence counterterrorism support to the intel, military and law enforcement communities. Customers are analysts and operators. IntelCenter does not provide policy support or work in any aspect of the political arena. Four core areas of work within the terrorist to rebel group spectrum are targeting, tactics, operational aspects and messaging (including videos and threat statements). Analysts work directly with operator and analytical communities at intelligence agencies, military and law enforcement in more than 30 countries. Analyst responsibilities are specific to assigned accounts which are geographic, group or specialty focused. Analysts typically have accounts in all three categories. Watch Officer responsibilities require an awareness of activity worldwide and the significance of developments even outside of assigned accounts. Work is focused on impact. For example an analytical product with the complexity equivalent of 1+1 that assists in a takedown or interdiction is valued over a doctoral thesis that has little to no relevance to operational activity or current threat assessments. We stress impact, not an academic approach.\n",
      "As a Political Analyst for the CIA, you will support policymakers by producing and delivering written and oral assessments of the domestic politics, foreign policy, stability, and social issues of foreign governments and entities. Your analysis will examine these actors' goals and motivations, culture, values, history, society, decision making processes, and ideologies in the context of how those elements affect US interests and national security.\n",
      "\n",
      "Assist the Director in all aspects of managing CFIUS cases, including working closely with Investment Security staff, Treasury legal counsel and other Treasury program offices, other agencies, and parties to transactions, to ensure timely progression of cases;\n",
      "Review and edit written work product of case officers and, in some cases, draft original work product. This may include extensive involvement in drafting or overseeing the preparation of memoranda to senior Treasury officials, and possibly the President, presenting the issues raised by particular transactions notified to CFIUS, and recommending courses of action;\n",
      "Play a key role in Treasury’s Open Investment Initiative to communicate the U.S. open investment policy and information about the CFIUS process through various channels to foreign governments and investors and other relevant foreign and domestic stakeholders;\n",
      "Establish and implement strategies to ensure foreign inward investment policies are consistent with international norms, including through coordination with other offices in the International Affairs division of Treasury;\n",
      "Engage with other agencies and provide advice to Treasury senior officials concerning other U.S. Government legislative or regulatory initiatives that would affect foreign investment in the United States.\n",
      "\n"
     ]
    }
   ],
   "source": [
    "for duty in df['Job Duties']:\n",
    "    print (duty)"
   ]
  },
  {
   "cell_type": "code",
   "execution_count": 12,
   "metadata": {},
   "outputs": [
    {
     "name": "stdout",
     "output_type": "stream",
     "text": [
      "Assist the Director in all aspects of managing CFIUS cases, including working closely with Investment Security staff, Treasury legal counsel and other Treasury program offices, other agencies, and parties to transactions, to ensure timely progression of cases;\n",
      "Review and edit written work product of case officers and, in some cases, draft original work product. This may include extensive involvement in drafting or overseeing the preparation of memoranda to senior Treasury officials, and possibly the President, presenting the issues raised by particular transactions notified to CFIUS, and recommending courses of action;\n",
      "Play a key role in Treasury’s Open Investment Initiative to communicate the U.S. open investment policy and information about the CFIUS process through various channels to foreign governments and investors and other relevant foreign and domestic stakeholders;\n",
      "Establish and implement strategies to ensure foreign inward investment policies are consistent with international norms, including through coordination with other offices in the International Affairs division of Treasury;\n",
      "Engage with other agencies and provide advice to Treasury senior officials concerning other U.S. Government legislative or regulatory initiatives that would affect foreign investment in the United States.\n",
      "As a Political Analyst for the CIA, you will support policymakers by producing and delivering written and oral assessments of the domestic politics, foreign policy, stability, and social issues of foreign governments and entities. Your analysis will examine these actors' goals and motivations, culture, values, history, society, decision making processes, and ideologies in the context of how those elements affect US interests and national security.\n",
      "Work involves providing current intelligence counterterrorism support to the intel, military and law enforcement communities. Customers are analysts and operators. IntelCenter does not provide policy support or work in any aspect of the political arena. Four core areas of work within the terrorist to rebel group spectrum are targeting, tactics, operational aspects and messaging (including videos and threat statements). Analysts work directly with operator and analytical communities at intelligence agencies, military and law enforcement in more than 30 countries. Analyst responsibilities are specific to assigned accounts which are geographic, group or specialty focused. Analysts typically have accounts in all three categories. Watch Officer responsibilities require an awareness of activity worldwide and the significance of developments even outside of assigned accounts. Work is focused on impact. For example an analytical product with the complexity equivalent of 1+1 that assists in a takedown or interdiction is valued over a doctoral thesis that has little to no relevance to operational activity or current threat assessments. We stress impact, not an academic approach.Serves as the HQDA and ODCSINT intelligence expert on Russia/Eurasia. Is a recognized authority on these issues within the intelligence community, the Department of Defense, and the academic community.\n",
      "Subject Matter Expert (SME) on Russian military, national security, political, economic, cultural trends.\n",
      "Performs a broad range of immediate and long-range self-initiated staff-level research projects and assessments and acts in an advisory role on Russian national security issues to the Army leadership.\n",
      "\n",
      "At the GS-12 level, the incumbent performs essentially the same duties as outlined below; however, the scope and complexity of assignments are of less responsibility and independence and receives closer than normal supervision than the GS-13 level.\n",
      "Serves as an expert foreign affairs intelligence analyst, providing all-source intelligence analysis of North Korea, including individuals, institutions, decision dynamics, policy trends, and cultural influences in North Korea&#8217;s political system.\n",
      "Prepares written and oral briefings on all-source intelligence for INR and within the U.S. Intelligence Community (IC) for the Presidents Daily Brief (PDB) and National Intelligence Council (NIC).\n",
      "Ensures that the intelligence needs of the State Department policymakers are clearly conveyed to appropriate collection agencies within the IC.\n",
      "Actively represents INR with the IC and other interagency venues. Ensures INR views are represented in the coordination of IC analytic products, including the PDB, NIC, and other interagency communities.\n",
      "Prepares oral briefings of political and security development in the above-mentioned specialty area.\n",
      "Serves as a technical expert on writing, editing, and applying best practices in analytic standards, methodologies, and tradecraft to produce in-depth, all-source intelligence reports, papers and assessments.\n",
      "Analyzes and evaluates data to produce conclusions and recommendations for policy-making officials.\n",
      "Initiates and advocates intelligence collection priorities across multiple collection disciplines and mentors junior and mid-level analysts on effectively driving the requirements process.\n",
      "Represents OIA, U.S. Department of the Treasury, at interagency meetings.\n",
      "Designs new methods to solve problems where established methods and procedures are not applicable or are unavailable.\n",
      "Interpreting specialized datasets or other intelligence regarding a targets technological capabilities and produces intelligence assessments that explain their impact on homeland security operations.\n",
      "Applying foundational knowledge of Foreign Intelligence Entity (FIE) capabilities and the ability to leverage Intelligence Community (IC) resources to determine impact on operations within supported components.\n",
      "Gathering information and conducting activities to protect against espionage and other intelligence activities conducted for/or on behalf of FIE.\n",
      "Identifying and advancing opportunities to provide Counterintelligence support to Homeland Security operations and other sensitive activities.\n",
      "Conducting research and analysis of threats to the homeland, operations, and trends to support all source intelligence and production, particularly in the areas of threats to Homeland and National Security.\n",
      "Interpreting specialized datasets or other intelligence regarding a target's technological capabilities and produces intelligence assessments that explain their impact on homeland security operations.\n",
      "Applying foundational knowledge of Foreign Intelligence Entity (FIE) capabilities and the ability to leverage Intelligence Community (IC) resources to determine impact on operations within supported components.\n",
      "Gathering information and conducting activities to protect against espionage and other intelligence activities conducted for/or on behalf of FIE.\n",
      "Identifying and advancing opportunities to provide Counterintelligence support to Homeland Security operations and other sensitive activities.\n",
      "Conducting research and analysis of threats to the homeland, operations, and trends to support all source intelligence and production, particularly in the areas of threats to Homeland and National Security.\n",
      "\n",
      "Build dashboards (using Tableau, Python and other BI tools) that illustrate how key performance indicators (KPIs) and metrics are changing over time. Provide color and insights from the findings and make recommendations to the business\n",
      "Create a lifetime value report (LTV) by signup month cohort for a paid online content subscription product in order to understand how much we can spend to acquire new customers\n",
      "Create a user-based analysis to understand how different consumers, broken down by behavioral segments, contribute to overall revenue. The ultimate goal is to be able to use this analysis to encourage profitable user behavior or to convert users for one segment to a more profitable one\n",
      "Review and validate customer data as it is collected\n",
      "Assist other team members with SQL queries necessary to extract, transform, or load data as part of integration and analysis development.\n",
      "Oversee the deployment of data to the data warehouse\n",
      "Develop policies, and procedures for the collection and analysis of data\n",
      "Create or discover new data procurement and processing programs\n",
      "Cooperate with Operations/ IT team to deploy software and hardware upgrades that make it possible for us to leverage big data use cases\n",
      "Design and implement complex business visualizations, dashboards, and reports to deliver insights.\n",
      "Analysis of complicated data sets and presenting meaningful outcomes to a variety of stakeholders\n",
      "Facilitate meetings to gather business and data requirements and translates them into report and analysis specifications, for example, Sales Revenue / Gross Profit / Market Share/ Returns / Sales Calls / CSR Productivity / KPI’s\n",
      "Validate, interpret, and project performance metrics and KPI’s\n",
      "Implement new data analysis methodologies\n",
      "Review customer files to ensure the integrity of data collection and utilization\n",
      "Design and implement automated reporting dashboards to track key business metrics\n",
      "Perform data profiling to identify and understand anomalies\n",
      "Monitor product trends, pricing and competitor developments and recommend warehouse stocking levels\n",
      "Analyze product trends and data in formulating marketing platforms\n",
      "\n",
      "\n",
      "This is professional and technical work conducting detailed research and analysis of confidential intelligence and investigative information relating to criminal activity in order to assist and enhance the effectiveness of law enforcement.  Work may include investigating confidential intelligence information such as financial transactions and related business records; compiling, analyzing and disseminating criminal activity information (in the form of bulletins, intelligence reports,etc); coordinating the exchange of interstate and intrastate information pertaining to criminal activity, syndicated criminal movement and terrorism related incidents; and preparing written reports requiring thorough analysis and evaluation of intelligence and investigative information.  Work requires intricate knowledge of social media; usage of multiple law enforcement databases; the collection of data from other government sources; and the ability to manipulate large quantities of raw data via spreadsheets or database creation. Work includes providing information to assist operations personnel in the identification of specific crime problems (crime patterns/sprees/series) and suspect leads; forecasting future crime occurrences; developing target profile analyses; furnishing support data to community policing and crime prevention programs; and providing data to support departmental planning activities, deployment planning, resource allocation, and budgeting activities.  Work also involves examining existing incident characteristics; identifying modus operandi; and identifying pre-incident indicators and characteristics. Work demands a high level of personal and professional integrity and tenacity to perform complex analysis that assists sensitive and often urgent investigations.\n",
      "\n",
      "\n",
      "Serves as a senior scientific and technical (S and T) intelligence analyst, with responsibility for production of innovative, integrated intelligence analysis in the area of foreign chemical and biological warfare.\n",
      "Continually expands and/or clarifies definition of critical intelligence issues and trends by thorough research of all-source literature on the subject area and is broad cultural, political, economic and public policy context.\n",
      "Involves professional work in the physical and biological sciences of extreme difficult and technical complexity in advanced areas of S and T analysis.\n",
      "Develops and utilizes new research methodologies or refines traditional techniques to design innovative analytical approaches to difficult intelligence problems.\n",
      "Develops comprehensive collection plans and strategies to address intelligence gaps through innovative use of existing collection assets.\n",
      "Develops overall analytical objectives, project scope and emphasis through a broad assessment of customer requirements, activity and agency mission objectives and significant new information or trends in assigned subject area.\n",
      "Directs and deconflicts production priorities for issues concerning the assigned functional areas and formulates NGIC?s position on critical issues and projects.\n",
      "Produces intelligence assessments in various formats, serves quick-reaction requests, and maintains current briefings in the area of regionalized chemical and biological warfare capabilities and threat assessment.\n",
      "Provides timely, authoritative and sound advice and recommendations on assigned intelligence area through the chain of command.\n",
      "Evaluate operational efficiency and effectiveness\n",
      "Perform qualitative and quantitative data analysis using analytical techniques, tools, models, simulation, etc.\n",
      "Solve business problems by defining the problem, interviewing stakeholders, identifying and evaluating alternatives, and presenting findings \n",
      "Participate in complex interdepartmental initiatives of significant business risk & impact \n",
      "Obtain quantitative and qualitative data of business processes to analyze, determine and promote data driven decisions \n",
      "Implement new/enhanced products, services and/or operational changes \n",
      "Prepare/collaborate on presentations, reports, white papers, etc. \n",
      "Interpret results of analysis; present recommendations, alternatives and implications \n",
      "Serve on teams and task groups for projects/initiatives within the business unit &/or across the organization\n",
      "Analyze processes and workflows to understand value chain, input/output, to improve and/or automate business performance \n",
      "Perform other related duties as assigned\n",
      "Housing & Community Services – Office of Homeless Services - Requires experience designing and working with homelessness systems, conducting surveys, comparative analysis, policy analysis, and gap analysis. Master's degree required, preferably in public administration or social sciences.\n",
      " \n",
      "Park & Recreation: This position will be responsible for large data sets related to park land dedication fees and must have working knowledge of database management, GIS, and records administration.\n",
      " \n",
      "Planning, Strategy & Performance Improvement: Lean/Six Sigma Certification (Black Belt, Green Belt, etc.). Project management experience. Industrial Engineering background/education. Experience working with large data set and creating reports/ dashboards utilizing business intelligence tools (Tableau Desktop, etc.).\n",
      "Writing and coordinating the development of tailored all-source intelligence and information products in accordance with the Intelligence Community Directive (ICD) 203.\n",
      "Preparing and briefing cyber intelligence analysis to provide customers with a critical understanding of the cyber threat.\n",
      "Taking the initiative to recommend innovative solutions to improve judgments of adversary intent analysis, capability and opportunity analysis, and identify reliable indicators of future activity.\n",
      "Evaluating and monitoring cyber information to identify threats to the Homeland and develop estimative judgments.\n",
      "Assisting intelligence analysts in producing finished all-source cyber intelligence assessments.\n",
      "You will evaluate case information relative to ongoing national security counterintelligence investigations to facilitate accurate decision making.\n",
      "You will conducts analysis of complex investigative cases to identify patterns in order to make recommendations regarding jurisdiction and responsibility.\n",
      "You will research complicated cases with disparate information to develop trends and provide accurate information to investigators.\n",
      "You will organize information obtained from databases and shared intelligence to produce products which assist in the detection of trends, identification and modus operandi and highlights potential counterintelligence activity.\n",
      "You will perform statistical analysis reports of counterintelligence sources to promote efficiencies and metrics.\n",
      "You will conduct reviews of counterintelligence reporting and disseminates information to the appropiate special agent or supervisor in the field office.\n",
      "Contributing to short and long term planning through in-depth research and analysis regarding threats to homeland security\n",
      "Developing new concepts, guides, and methodologies to solve analytical problems, and developing experimental approaches to intelligence collection \n",
      "Compiling, extrapolating, and processing information from CBP databases, open source reporting, intelligence community and law enforcement systems and databases \n",
      "Preparing, reporting, and communicating with high level intelligence community stakeholders \n",
      "Travel Required \n",
      "25% or less - You may be expected to travel for this position. \n",
      "The GEOINT Targeting Support Analyst, a member of the Targeting and Transnational Issues Office, Precision Engagement Division (AORT), embedded with the Naval Air Development Warfare Center (NAWDC) Fallon NAS, NV, provides on-site targeting intelligence support and coordinates reach back support for NADWC. Current or previous Precise Point Mensuration certification desired. Familiarity with the \"Target Coordinate Mensuration Certification and Program Accreditation\" process outlined in Chairman Joint Chiefs of Staff (CJCSI) 3505.01D is desired. The analyst provides subject matter expertise for NAWDC personnel in Target Materials production and facilitates tradecraft growth. The analyst provides technical guidance for skills and processes required for target analysis, quality assurance and data management, and specialist advice regarding the application of Targeting-related doctrine, to include Joint Publication 3-60 Joint Targeting, CJCSI 3505.01D Target Coordinate Mensuration Certification and Program Accreditation and CJCSI 3370.01 Target Development Standards. Additionally, the analyst serves as a GEOINT technical advisor for geospatial services, applications, systems, and capabilities supporting the DNI / Intelligence Community Information Technology Environment (IC-ITE) and the DOD / Joint Information Environment (JIE) as well as various other NGA and community initiatives.\n",
      "You will attend National, DoD and Marine Corps working groups, panels and boards related to CI audit and monitoring of information systems, CI activities in cyberspace and CI support to cyber activities.\n",
      "You will conduct Service-level planning in coordination with the operating forces and HQMC staff sections related to Marine Corps audit and monitoring programs and cyber-related CI programs.\n",
      "You will draft Service-level policy and guidance related to Marine Corps audit and monitoring programs and cyber-related CI programs.\n",
      "\n",
      "\n",
      "Global Dimensions has immediate openings for those ready to begin an exciting and dynamic intelligence career while supporting critical global counterterrorism operations. By joining our team, you’ll learn FMV tradecraft through a unique three week formal training course, followed by a robust on-the-job training program which provides candidates, who are new to motion GEOINT, specialized instruction in FMV tradecraft, exploitation tools, and theater specific cultural familiarization. Our analysts have rapid advancement potential and cross training opportunities into Synthetic Aperture Radar (SAR)/ Ground Moving Target Indicator (GMTI), FMV training, and FMV Advanced Research positions.\n",
      "\n",
      "You will serve as an INTELLIGENCE ANALYST/ADVISOR with the Department of Defense Expeditionary Civilian (DoD-EC) Workforce. Volunteering to deploy gives civilians an extraordinary opportunity to use their capabilities, experience, and knowledge while directly supporting operations of national interest. Individuals can volunteer to fill critical functions supporting the U.S. Military in foreign locations, to include Afghanistan, Iraq, Kuwait & Qatar.\n",
      "\n"
     ]
    }
   ],
   "source": [
    "duties =''\n",
    "for duty in df['Job Duties']:\n",
    "    duties = duty + duties\n",
    "print (duties)"
   ]
  },
  {
   "cell_type": "code",
   "execution_count": 13,
   "metadata": {},
   "outputs": [],
   "source": [
    "import xlwt\n",
    "\n",
    "from collections import Counter        \n",
    "\n",
    "from nltk.corpus import stopwords\n",
    "\n",
    "stop = set(stopwords.words('english'))\n",
    "\n",
    "  \n",
    "\n",
    "book = xlwt.Workbook()\n",
    "\n",
    "sheet_test = book.add_sheet('word_count')\n",
    "\n",
    "i = 0\n",
    "\n",
    "sheet_test.write(i,0,'word')\n",
    "\n",
    "sheet_test.write(i,1,'count')\n",
    "\n",
    "sheet_test.write(i,2,'ratio')"
   ]
  },
  {
   "cell_type": "code",
   "execution_count": 14,
   "metadata": {},
   "outputs": [],
   "source": [
    "word_list = [i for i in duties.lower().split() if i not in stop]\n",
    "\n",
    "word_total = word_list.__len__()\n",
    "\n",
    "\n",
    "\n",
    "count_result =  Counter(word_list)\n",
    "\n",
    "for result in count_result.most_common(20):\n",
    "\n",
    "    i = i+1 \n",
    "\n",
    "    sheet_test.write(i,0,result[0])\n",
    "\n",
    "    sheet_test.write(i,1,result[1])\n",
    "\n",
    "    sheet_test.write(i,2,(result[1]/word_total))\n",
    "\n",
    "    \n",
    "\n",
    "book.save('duties.xls')"
   ]
  },
  {
   "cell_type": "markdown",
   "metadata": {},
   "source": [
    "<img src=\"Duties.png\">"
   ]
  },
  {
   "cell_type": "markdown",
   "metadata": {},
   "source": [
    "This word cloud shows what the most common job duties are. The five largest are intelligence, information, analysis, data and work."
   ]
  },
  {
   "cell_type": "markdown",
   "metadata": {},
   "source": [
    "# Question 9 - What are the common skills? "
   ]
  },
  {
   "cell_type": "code",
   "execution_count": 15,
   "metadata": {},
   "outputs": [
    {
     "name": "stdout",
     "output_type": "stream",
     "text": [
      "\n"
     ]
    }
   ],
   "source": [
    "skills =''\n",
    "for skill in df['Required Skills']:\n",
    "    skills = skills + skills\n",
    "print (skills)"
   ]
  },
  {
   "cell_type": "code",
   "execution_count": 16,
   "metadata": {},
   "outputs": [],
   "source": [
    "import xlwt        \n",
    "\n",
    "from collections import Counter        \n",
    "\n",
    "from nltk.corpus import stopwords\n",
    "\n",
    "stop = set(stopwords.words('english'))\n",
    "\n",
    "  \n",
    "\n",
    "book = xlwt.Workbook()\n",
    "\n",
    "sheet_test = book.add_sheet('word_count')\n",
    "\n",
    "i = 0\n",
    "\n",
    "sheet_test.write(i,0,'word')\n",
    "\n",
    "sheet_test.write(i,1,'count')\n",
    "\n",
    "sheet_test.write(i,2,'ratio')"
   ]
  },
  {
   "cell_type": "code",
   "execution_count": 17,
   "metadata": {},
   "outputs": [],
   "source": [
    "word_list = [i for i in skills.lower().split() if i not in stop]\n",
    "\n",
    "word_total = word_list.__len__()\n",
    "\n",
    "\n",
    "\n",
    "count_result =  Counter(word_list)\n",
    "\n",
    "for result in count_result.most_common(20):\n",
    "\n",
    "    i = i+1 \n",
    "\n",
    "    sheet_test.write(i,0,result[0])\n",
    "\n",
    "    sheet_test.write(i,1,result[1])\n",
    "\n",
    "    sheet_test.write(i,2,(result[1]/word_total))\n",
    "\n",
    "    \n",
    "\n",
    "book.save('skills.xls')"
   ]
  },
  {
   "cell_type": "markdown",
   "metadata": {},
   "source": [
    "<img src=\"Skills.png\">"
   ]
  },
  {
   "cell_type": "markdown",
   "metadata": {},
   "source": [
    "This word cloud shows the most common job skills that are being asked for. According to this word cloud there is a lot of similarities across all of  the jobs which are mostly asking for the same thing."
   ]
  },
  {
   "cell_type": "code",
   "execution_count": null,
   "metadata": {},
   "outputs": [],
   "source": []
  }
 ],
 "metadata": {
  "kernelspec": {
   "display_name": "Python 3",
   "language": "python",
   "name": "python3"
  },
  "language_info": {
   "codemirror_mode": {
    "name": "ipython",
    "version": 3
   },
   "file_extension": ".py",
   "mimetype": "text/x-python",
   "name": "python",
   "nbconvert_exporter": "python",
   "pygments_lexer": "ipython3",
   "version": "3.6.5"
  }
 },
 "nbformat": 4,
 "nbformat_minor": 2
}
