{
 "cells": [
  {
   "cell_type": "markdown",
   "metadata": {},
   "source": [
    "# Step 3"
   ]
  },
  {
   "cell_type": "code",
   "execution_count": 1,
   "metadata": {},
   "outputs": [],
   "source": [
    "from urllib import request\n",
    "import json\n",
    "from pprint import pprint\n",
    "import xlwt"
   ]
  },
  {
   "cell_type": "code",
   "execution_count": 2,
   "metadata": {},
   "outputs": [],
   "source": [
    "census_api_key = 'd774454e2e7d88cb939affd59b8d25789b3cf61b'"
   ]
  },
  {
   "cell_type": "code",
   "execution_count": 3,
   "metadata": {},
   "outputs": [],
   "source": [
    "url_str = 'https://api.census.gov/data/2017/acs/acs5?get=B01001_001E,B01001_002E,NAME&for=county:*&in=state:51&key='+census_api_key"
   ]
  },
  {
   "cell_type": "code",
   "execution_count": 4,
   "metadata": {},
   "outputs": [
    {
     "name": "stdout",
     "output_type": "stream",
     "text": [
      "https://api.census.gov/data/2017/acs/acs5?get=B01001_001E,B01001_002E,NAME&for=county:*&in=state:51&key=d774454e2e7d88cb939affd59b8d25789b3cf61b\n"
     ]
    }
   ],
   "source": [
    "print(url_str)"
   ]
  },
  {
   "cell_type": "code",
   "execution_count": 5,
   "metadata": {},
   "outputs": [],
   "source": [
    "response = request.urlopen(url_str)\n",
    "html_str = response.read().decode(\"utf-8\")"
   ]
  },
  {
   "cell_type": "code",
   "execution_count": 6,
   "metadata": {},
   "outputs": [],
   "source": [
    "book = xlwt.Workbook()\n",
    "sheet = book.add_sheet('va_pop')\n",
    "i=0\n",
    "if html_str:\n",
    "    json_data = json.loads(html_str)\n",
    "    for record in json_data:\n",
    "        total_pop, male_pop,name,state,count_num = record\n",
    "        sheet.write(i,0,total_pop)\n",
    "        sheet.write(i,1,male_pop)\n",
    "        i +=1\n",
    "book.save('census.xls')"
   ]
  },
  {
   "cell_type": "markdown",
   "metadata": {},
   "source": [
    "# Step 4"
   ]
  },
  {
   "cell_type": "code",
   "execution_count": 7,
   "metadata": {},
   "outputs": [],
   "source": [
    "import xlrd"
   ]
  },
  {
   "cell_type": "code",
   "execution_count": 8,
   "metadata": {},
   "outputs": [],
   "source": [
    "book = xlrd.open_workbook('census.xls')\n",
    "sheet = book.sheet_by_name(\"va_pop\")"
   ]
  },
  {
   "cell_type": "code",
   "execution_count": 9,
   "metadata": {},
   "outputs": [
    {
     "name": "stdout",
     "output_type": "stream",
     "text": [
      "['B01001_001E', 'B01001_002E']\n",
      "['7022', '3437']\n",
      "['49795', '25057']\n",
      "['28033', '13849']\n",
      "['19213', '9387']\n",
      "['103218', '50653']\n",
      "['12369', '6367']\n",
      "['35265', '17341']\n",
      "['5495', '2488']\n",
      "['29048', '14200']\n"
     ]
    }
   ],
   "source": [
    "for i in range(sheet.nrows):\n",
    "    row = sheet.row_values(i)\n",
    "    if i<10:\n",
    "        print (row)"
   ]
  },
  {
   "cell_type": "markdown",
   "metadata": {},
   "source": [
    "# Step 5"
   ]
  },
  {
   "cell_type": "code",
   "execution_count": 10,
   "metadata": {},
   "outputs": [],
   "source": [
    "from xlutils.copy import copy"
   ]
  },
  {
   "cell_type": "code",
   "execution_count": 11,
   "metadata": {},
   "outputs": [],
   "source": [
    "read_book = xlrd.open_workbook('census.xls')\n",
    "my_sheet = read_book.sheet_by_name('va_pop')\n",
    "num_rows = my_sheet.nrows\n",
    "write_book = copy(read_book)\n",
    "\n",
    "write_sheet = write_book.get_sheet(0)\n",
    "\n",
    "for i in range(num_rows):\n",
    "    row = my_sheet.row_values(i)\n",
    "    B01001_001E,B01001_002E=row\n",
    "    if i ==0:\n",
    "        write_sheet.write(i,2,'male/total ratio')\n",
    "    else:\n",
    "        write_sheet.write(i,2,int(B01001_002E)/int(B01001_001E))\n",
    "        \n",
    "write_book.save('census.xls')"
   ]
  },
  {
   "cell_type": "markdown",
   "metadata": {},
   "source": [
    "# Step 6"
   ]
  },
  {
   "cell_type": "code",
   "execution_count": 12,
   "metadata": {},
   "outputs": [],
   "source": [
    "import xlrd"
   ]
  },
  {
   "cell_type": "code",
   "execution_count": 13,
   "metadata": {},
   "outputs": [],
   "source": [
    "book = xlrd.open_workbook('census.xls')\n",
    "sheet = book.sheet_by_name(\"va_pop\")"
   ]
  },
  {
   "cell_type": "code",
   "execution_count": 14,
   "metadata": {},
   "outputs": [
    {
     "name": "stdout",
     "output_type": "stream",
     "text": [
      "['B01001_001E', 'B01001_002E', 'male/total ratio']\n",
      "['7022', '3437', 0.48946169182569066]\n",
      "['49795', '25057', 0.5032031328446631]\n",
      "['28033', '13849', 0.4940248992259123]\n",
      "['19213', '9387', 0.488575443709988]\n",
      "['103218', '50653', 0.49073804956499834]\n",
      "['12369', '6367', 0.5147546285067508]\n",
      "['35265', '17341', 0.49173401389479654]\n",
      "['5495', '2488', 0.45277525022747955]\n",
      "['29048', '14200', 0.488846047920683]\n"
     ]
    }
   ],
   "source": [
    "for i in range(sheet.nrows):\n",
    "    row = sheet.row_values(i)\n",
    "    if i<10:\n",
    "        print (row)"
   ]
  },
  {
   "cell_type": "code",
   "execution_count": null,
   "metadata": {},
   "outputs": [],
   "source": []
  }
 ],
 "metadata": {
  "kernelspec": {
   "display_name": "Python 3",
   "language": "python",
   "name": "python3"
  },
  "language_info": {
   "codemirror_mode": {
    "name": "ipython",
    "version": 3
   },
   "file_extension": ".py",
   "mimetype": "text/x-python",
   "name": "python",
   "nbconvert_exporter": "python",
   "pygments_lexer": "ipython3",
   "version": "3.6.5"
  }
 },
 "nbformat": 4,
 "nbformat_minor": 2
}
