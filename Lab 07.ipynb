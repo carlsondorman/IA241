{
 "cells": [
  {
   "cell_type": "markdown",
   "metadata": {},
   "source": [
    "# Q1\n",
    "\n",
    "Company: Federal Reserve Bank of Richmond\n",
    "Discription: Researching and working with economists to create data for speeches and brief content for the president.\n",
    "[Website](https://www.indeed.com/viewjob?jk=03031870201e12fd&tk=1d5umojbfacoo802&from=serp&vjs=3)"
   ]
  },
  {
   "cell_type": "markdown",
   "metadata": {},
   "source": [
    "# Q2 and Q3"
   ]
  },
  {
   "cell_type": "code",
   "execution_count": 19,
   "metadata": {},
   "outputs": [],
   "source": [
    "import xlwt\n",
    "from collections import Counter"
   ]
  },
  {
   "cell_type": "code",
   "execution_count": 20,
   "metadata": {},
   "outputs": [],
   "source": [
    "mybook = xlwt.Workbook()\n",
    "sheet = mybook.add_sheet('word_count')\n",
    "i = 0\n",
    "sheet.write(i,0,'word')\n",
    "sheet.write(i,1,'count')"
   ]
  },
  {
   "cell_type": "code",
   "execution_count": 21,
   "metadata": {},
   "outputs": [],
   "source": [
    "with open ('job.txt','r') as job:\n",
    "    count_result = Counter(job.read().split())\n",
    "    for result in count_result.most_common(20):\n",
    "        i = i+1\n",
    "        sheet.write(i,0,result[0])\n",
    "        sheet.write(i,1,result[1])\n",
    "mybook.save(\"job_word_count.xls\")"
   ]
  },
  {
   "cell_type": "markdown",
   "metadata": {},
   "source": [
    "# Q4"
   ]
  },
  {
   "cell_type": "code",
   "execution_count": 30,
   "metadata": {},
   "outputs": [
    {
     "name": "stdout",
     "output_type": "stream",
     "text": [
      "['word', 'count']\n",
      "['and', 33.0]\n",
      "['the', 22.0]\n",
      "['of', 19.0]\n",
      "['to', 18.0]\n",
      "['a', 11.0]\n",
      "['or', 10.0]\n",
      "['with', 9.0]\n",
      "['for', 8.0]\n",
      "['in', 8.0]\n",
      "['is', 7.0]\n",
      "['are', 7.0]\n",
      "['as', 6.0]\n",
      "['economic', 6.0]\n",
      "['data', 5.0]\n",
      "['research', 5.0]\n",
      "['special', 5.0]\n",
      "['be', 5.0]\n",
      "['support', 4.0]\n",
      "['work', 4.0]\n",
      "['this', 4.0]\n"
     ]
    }
   ],
   "source": [
    "import xlrd\n",
    "mybook = xlrd.open_workbook(\"job_word_count.xls\")\n",
    "sheet = mybook.sheet_by_name(\"word_count\")\n",
    "for i in range(sheet.nrows):\n",
    "    row = sheet.row_values(i)\n",
    "    print(row)"
   ]
  },
  {
   "cell_type": "markdown",
   "metadata": {},
   "source": [
    "# Q5"
   ]
  },
  {
   "cell_type": "markdown",
   "metadata": {},
   "source": [
    "<img src = \"wordcloud.png\">"
   ]
  },
  {
   "cell_type": "code",
   "execution_count": null,
   "metadata": {},
   "outputs": [],
   "source": []
  }
 ],
 "metadata": {
  "kernelspec": {
   "display_name": "Python 3",
   "language": "python",
   "name": "python3"
  },
  "language_info": {
   "codemirror_mode": {
    "name": "ipython",
    "version": 3
   },
   "file_extension": ".py",
   "mimetype": "text/x-python",
   "name": "python",
   "nbconvert_exporter": "python",
   "pygments_lexer": "ipython3",
   "version": "3.6.5"
  }
 },
 "nbformat": 4,
 "nbformat_minor": 2
}
